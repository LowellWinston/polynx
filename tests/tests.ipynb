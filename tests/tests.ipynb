{
 "cells": [
  {
   "cell_type": "code",
   "execution_count": 50,
   "metadata": {},
   "outputs": [],
   "source": [
    "from importlib import reload\n",
    "#import pl_utilities\n",
    "from polars import col as pcl\n",
    "import pyarrow"
   ]
  },
  {
   "cell_type": "code",
   "execution_count": null,
   "metadata": {},
   "outputs": [],
   "source": [
    "import pl_parser_v2\n",
    "from pl_parser_v2 import *\n",
    "import gc"
   ]
  },
  {
   "cell_type": "code",
   "execution_count": 7,
   "metadata": {},
   "outputs": [
    {
     "ename": "NameError",
     "evalue": "name 'pl' is not defined",
     "output_type": "error",
     "traceback": [
      "\u001b[0;31m---------------------------------------------------------------------------\u001b[0m",
      "\u001b[0;31mNameError\u001b[0m                                 Traceback (most recent call last)",
      "Cell \u001b[0;32mIn[7], line 1\u001b[0m\n\u001b[0;32m----> 1\u001b[0m df \u001b[38;5;241m=\u001b[39m \u001b[43mpl\u001b[49m\u001b[38;5;241m.\u001b[39mDataFrame({\n\u001b[1;32m      2\u001b[0m     \u001b[38;5;124m'\u001b[39m\u001b[38;5;124mA\u001b[39m\u001b[38;5;124m'\u001b[39m:[\u001b[38;5;241m1\u001b[39m, \u001b[38;5;241m2\u001b[39m, \u001b[38;5;241m3\u001b[39m, \u001b[38;5;241m4\u001b[39m], \n\u001b[1;32m      3\u001b[0m     \u001b[38;5;124m'\u001b[39m\u001b[38;5;124mB\u001b[39m\u001b[38;5;124m'\u001b[39m: [\u001b[38;5;124m'\u001b[39m\u001b[38;5;124mabc\u001b[39m\u001b[38;5;124m'\u001b[39m, \u001b[38;5;124m'\u001b[39m\u001b[38;5;124mbc\u001b[39m\u001b[38;5;124m'\u001b[39m, \u001b[38;5;124m'\u001b[39m\u001b[38;5;124maaa\u001b[39m\u001b[38;5;124m'\u001b[39m, \u001b[38;5;28;01mNone\u001b[39;00m], \n\u001b[1;32m      4\u001b[0m     \u001b[38;5;124m'\u001b[39m\u001b[38;5;124mC\u001b[39m\u001b[38;5;124m'\u001b[39m: [\u001b[38;5;124m'\u001b[39m\u001b[38;5;124m2023-01-01\u001b[39m\u001b[38;5;124m'\u001b[39m,\u001b[38;5;124m'\u001b[39m\u001b[38;5;124m2021-01-01\u001b[39m\u001b[38;5;124m'\u001b[39m,\u001b[38;5;124m'\u001b[39m\u001b[38;5;124m2009-11-01\u001b[39m\u001b[38;5;124m'\u001b[39m,\u001b[38;5;124m'\u001b[39m\u001b[38;5;124m2000-11-11\u001b[39m\u001b[38;5;124m'\u001b[39m],\n\u001b[1;32m      5\u001b[0m     \u001b[38;5;124m'\u001b[39m\u001b[38;5;124mE\u001b[39m\u001b[38;5;124m'\u001b[39m: [\u001b[38;5;241m1.1\u001b[39m, \u001b[38;5;241m2.1\u001b[39m, \u001b[38;5;241m3.5\u001b[39m, \u001b[38;5;241m0\u001b[39m]}\n\u001b[1;32m      6\u001b[0m )\u001b[38;5;241m.\u001b[39mwith_columns(pcl(\u001b[38;5;124m'\u001b[39m\u001b[38;5;124mC\u001b[39m\u001b[38;5;124m'\u001b[39m)\u001b[38;5;241m.\u001b[39mstr\u001b[38;5;241m.\u001b[39mto_datetime(\u001b[38;5;28mformat\u001b[39m\u001b[38;5;241m=\u001b[39m\u001b[38;5;124m'\u001b[39m\u001b[38;5;124m%\u001b[39m\u001b[38;5;124mY-\u001b[39m\u001b[38;5;124m%\u001b[39m\u001b[38;5;124mm-\u001b[39m\u001b[38;5;132;01m%d\u001b[39;00m\u001b[38;5;124m'\u001b[39m))\n\u001b[1;32m      7\u001b[0m var1 \u001b[38;5;241m=\u001b[39m \u001b[38;5;241m1\u001b[39m\n\u001b[1;32m      8\u001b[0m var2 \u001b[38;5;241m=\u001b[39m \u001b[38;5;241m10\u001b[39m\n",
      "\u001b[0;31mNameError\u001b[0m: name 'pl' is not defined"
     ]
    }
   ],
   "source": [
    "df = pl.DataFrame({\n",
    "    'A':[1, 2, 3, 4], \n",
    "    'B': ['abc', 'bc', 'aaa', None], \n",
    "    'C': ['2023-01-01','2021-01-01','2009-11-01','2000-11-11'],\n",
    "    'E': [1.1, 2.1, 3.5, 0]}\n",
    ").with_columns(pcl('C').str.to_datetime(format='%Y-%m-%d'))\n",
    "var1 = 1\n",
    "var2 = 10\n",
    "var3 ='2025-01-01'\n",
    "var4 = ['bc','aaa']\n",
    "#\"2 <= A  <= 3 \", df)\n",
    "expr = \"@var1 <= A < @var2  & C <= @var3 & B.str.contains('a')\"\n",
    "df_pd = df.to_pandas()"
   ]
  },
  {
   "cell_type": "code",
   "execution_count": 274,
   "metadata": {},
   "outputs": [
    {
     "data": {
      "text/html": [
       "<div>\n",
       "<style scoped>\n",
       "    .dataframe tbody tr th:only-of-type {\n",
       "        vertical-align: middle;\n",
       "    }\n",
       "\n",
       "    .dataframe tbody tr th {\n",
       "        vertical-align: top;\n",
       "    }\n",
       "\n",
       "    .dataframe thead th {\n",
       "        text-align: right;\n",
       "    }\n",
       "</style>\n",
       "<table border=\"1\" class=\"dataframe\">\n",
       "  <thead>\n",
       "    <tr style=\"text-align: right;\">\n",
       "      <th></th>\n",
       "      <th>A</th>\n",
       "      <th>B</th>\n",
       "      <th>C</th>\n",
       "      <th>E</th>\n",
       "    </tr>\n",
       "  </thead>\n",
       "  <tbody>\n",
       "    <tr>\n",
       "      <th>1</th>\n",
       "      <td>2</td>\n",
       "      <td>bc</td>\n",
       "      <td>2021-01-01</td>\n",
       "      <td>2.1</td>\n",
       "    </tr>\n",
       "    <tr>\n",
       "      <th>2</th>\n",
       "      <td>3</td>\n",
       "      <td>aaa</td>\n",
       "      <td>2009-11-01</td>\n",
       "      <td>3.5</td>\n",
       "    </tr>\n",
       "    <tr>\n",
       "      <th>3</th>\n",
       "      <td>4</td>\n",
       "      <td>None</td>\n",
       "      <td>2000-11-11</td>\n",
       "      <td>0.0</td>\n",
       "    </tr>\n",
       "  </tbody>\n",
       "</table>\n",
       "</div>"
      ],
      "text/plain": [
       "   A     B          C    E\n",
       "1  2    bc 2021-01-01  2.1\n",
       "2  3   aaa 2009-11-01  3.5\n",
       "3  4  None 2000-11-11  0.0"
      ]
     },
     "execution_count": 274,
     "metadata": {},
     "output_type": "execute_result"
    }
   ],
   "source": [
    "var5 ='2001-01-01'\n",
    "query_str =  \"@var1 <= A < @var2 & C.dt.year >=2020 & B in @var4\"\n",
    "query_str = \"B.str.contains('a|b', na=False)\"\n",
    "query_str = \"C >'2010-01-01' & A > 1\"\n",
    "query_str = \" B in ['aaa','bc']\"\n",
    "query_str = \" A == 1\"\n",
    "query_str = \" A ** 2 - E > 1\"\n",
    "query_str = \" @var5 < C < @var3 \"\n",
    "query_str = \" B.str.endswith('c', na=False)\"\n",
    "query_str = \" not (B.isna() & A.notna())\"\n",
    "query_str = \" A ** 2 - E > 1\"\n",
    "df_pd.query(query_str)"
   ]
  },
  {
   "cell_type": "code",
   "execution_count": null,
   "metadata": {},
   "outputs": [
    {
     "name": "stdout",
     "output_type": "stream",
     "text": [
      "list_lit called [2.0]\n",
      "in_expr called with args= [<Expr ['col(\"A\")'] at 0x131C7D690>, [2.0]]\n",
      "col(\"A\").is_in([Series])\n"
     ]
    },
    {
     "data": {
      "text/html": [
       "<div><style>\n",
       ".dataframe > thead > tr,\n",
       ".dataframe > tbody > tr {\n",
       "  text-align: right;\n",
       "  white-space: pre-wrap;\n",
       "}\n",
       "</style>\n",
       "<small>shape: (1, 4)</small><table border=\"1\" class=\"dataframe\"><thead><tr><th>A</th><th>B</th><th>C</th><th>E</th></tr><tr><td>i64</td><td>str</td><td>datetime[μs]</td><td>f64</td></tr></thead><tbody><tr><td>2</td><td>&quot;bc&quot;</td><td>2021-01-01 00:00:00</td><td>2.1</td></tr></tbody></table></div>"
      ],
      "text/plain": [
       "shape: (1, 4)\n",
       "┌─────┬─────┬─────────────────────┬─────┐\n",
       "│ A   ┆ B   ┆ C                   ┆ E   │\n",
       "│ --- ┆ --- ┆ ---                 ┆ --- │\n",
       "│ i64 ┆ str ┆ datetime[μs]        ┆ f64 │\n",
       "╞═════╪═════╪═════════════════════╪═════╡\n",
       "│ 2   ┆ bc  ┆ 2021-01-01 00:00:00 ┆ 2.1 │\n",
       "└─────┴─────┴─────────────────────┴─────┘"
      ]
     },
     "execution_count": 17,
     "metadata": {},
     "output_type": "execute_result"
    }
   ],
   "source": [
    "reload(pl_parser_v2)\n",
    "#query_str = \"B.str.contains('a|b')\"\n",
    "#query_str = \" B.str.endswith('c')\"\n",
    "#df = df.with_columns(F=parse_polars_expr(query_str=\"A > 1\", df_schema=df.schema) )\n",
    "#query_str=\"F\"\n",
    "query_str = \"F = select([A > 1, C.dt.year > 2000, E < 10], [1, 2, 4], 0) ; G = @var6\"\n",
    "query_str = \" A in [2]\"\n",
    "#expr = parse_polars_expr(query_str=query_str, df_schema=df.schema)\n",
    "#print(\"Polars expression:\", expr)\n",
    "#print(\"Filtered result:\")\n",
    "#print(df.filter(expr))\n",
    "df.query(query_str)\n",
    "#var6 =[1,2,3,4]\n",
    "#df.eval(query_str, mode ='assign')\n",
    "#df.eval(query_str, mode='assign')\n",
    "#df.filter(pl.col('B').is_in(['abc']))"
   ]
  },
  {
   "cell_type": "code",
   "execution_count": null,
   "metadata": {},
   "outputs": [],
   "source": []
  },
  {
   "cell_type": "code",
   "execution_count": 49,
   "metadata": {},
   "outputs": [
    {
     "data": {
      "text/html": [
       "<div><style>\n",
       ".dataframe > thead > tr,\n",
       ".dataframe > tbody > tr {\n",
       "  text-align: right;\n",
       "  white-space: pre-wrap;\n",
       "}\n",
       "</style>\n",
       "<small>shape: (1, 4)</small><table border=\"1\" class=\"dataframe\"><thead><tr><th>A</th><th>B</th><th>C</th><th>E</th></tr><tr><td>i64</td><td>str</td><td>datetime[μs]</td><td>f64</td></tr></thead><tbody><tr><td>1</td><td>&quot;abc&quot;</td><td>2023-01-01 00:00:00</td><td>1.1</td></tr></tbody></table></div>"
      ],
      "text/plain": [
       "shape: (1, 4)\n",
       "┌─────┬─────┬─────────────────────┬─────┐\n",
       "│ A   ┆ B   ┆ C                   ┆ E   │\n",
       "│ --- ┆ --- ┆ ---                 ┆ --- │\n",
       "│ i64 ┆ str ┆ datetime[μs]        ┆ f64 │\n",
       "╞═════╪═════╪═════════════════════╪═════╡\n",
       "│ 1   ┆ abc ┆ 2023-01-01 00:00:00 ┆ 1.1 │\n",
       "└─────┴─────┴─────────────────────┴─────┘"
      ]
     },
     "execution_count": 49,
     "metadata": {},
     "output_type": "execute_result"
    }
   ],
   "source": [
    "reload(pl_parser_v2)\n",
    "gc.collect()\n",
    "query_str = \" C in ['2023-01-01']\"\n",
    "df.query(query_str)"
   ]
  },
  {
   "cell_type": "code",
   "execution_count": 8,
   "metadata": {},
   "outputs": [],
   "source": [
    "from importlib import reload\n",
    "import polynx\n",
    "reload(polynx)\n",
    "import polynx as plx\n",
    "import polars as pl"
   ]
  },
  {
   "cell_type": "code",
   "execution_count": 9,
   "metadata": {},
   "outputs": [
    {
     "ename": "AttributeError",
     "evalue": "module 'polynx' has no attribute 'DataFrame'",
     "output_type": "error",
     "traceback": [
      "\u001b[0;31m---------------------------------------------------------------------------\u001b[0m",
      "\u001b[0;31mAttributeError\u001b[0m                            Traceback (most recent call last)",
      "Cell \u001b[0;32mIn[9], line 8\u001b[0m\n\u001b[1;32m      1\u001b[0m df \u001b[38;5;241m=\u001b[39m pl\u001b[38;5;241m.\u001b[39mDataFrame({\n\u001b[1;32m      2\u001b[0m     \u001b[38;5;124m'\u001b[39m\u001b[38;5;124mA\u001b[39m\u001b[38;5;124m'\u001b[39m:[\u001b[38;5;241m1\u001b[39m, \u001b[38;5;241m2\u001b[39m, \u001b[38;5;241m3\u001b[39m, \u001b[38;5;241m4\u001b[39m], \n\u001b[1;32m      3\u001b[0m     \u001b[38;5;124m'\u001b[39m\u001b[38;5;124mB\u001b[39m\u001b[38;5;124m'\u001b[39m: [\u001b[38;5;124m'\u001b[39m\u001b[38;5;124mabc\u001b[39m\u001b[38;5;124m'\u001b[39m, \u001b[38;5;124m'\u001b[39m\u001b[38;5;124mbc\u001b[39m\u001b[38;5;124m'\u001b[39m, \u001b[38;5;124m'\u001b[39m\u001b[38;5;124maaa\u001b[39m\u001b[38;5;124m'\u001b[39m, \u001b[38;5;28;01mNone\u001b[39;00m], \n\u001b[1;32m      4\u001b[0m     \u001b[38;5;124m'\u001b[39m\u001b[38;5;124mC\u001b[39m\u001b[38;5;124m'\u001b[39m: [\u001b[38;5;124m'\u001b[39m\u001b[38;5;124m2023-01-01\u001b[39m\u001b[38;5;124m'\u001b[39m,\u001b[38;5;124m'\u001b[39m\u001b[38;5;124m2021-01-01\u001b[39m\u001b[38;5;124m'\u001b[39m,\u001b[38;5;124m'\u001b[39m\u001b[38;5;124m2009-11-01\u001b[39m\u001b[38;5;124m'\u001b[39m,\u001b[38;5;124m'\u001b[39m\u001b[38;5;124m2000-11-11\u001b[39m\u001b[38;5;124m'\u001b[39m],\n\u001b[1;32m      5\u001b[0m     \u001b[38;5;124m'\u001b[39m\u001b[38;5;124mE\u001b[39m\u001b[38;5;124m'\u001b[39m: [\u001b[38;5;241m1.1\u001b[39m, \u001b[38;5;241m2.1\u001b[39m, \u001b[38;5;241m3.5\u001b[39m, \u001b[38;5;241m0\u001b[39m]}\n\u001b[1;32m      6\u001b[0m )\u001b[38;5;241m.\u001b[39mwith_columns(pl\u001b[38;5;241m.\u001b[39mcol(\u001b[38;5;124m'\u001b[39m\u001b[38;5;124mC\u001b[39m\u001b[38;5;124m'\u001b[39m)\u001b[38;5;241m.\u001b[39mstr\u001b[38;5;241m.\u001b[39mto_datetime(\u001b[38;5;28mformat\u001b[39m\u001b[38;5;241m=\u001b[39m\u001b[38;5;124m'\u001b[39m\u001b[38;5;124m%\u001b[39m\u001b[38;5;124mY-\u001b[39m\u001b[38;5;124m%\u001b[39m\u001b[38;5;124mm-\u001b[39m\u001b[38;5;132;01m%d\u001b[39;00m\u001b[38;5;124m'\u001b[39m,time_unit\u001b[38;5;241m=\u001b[39m\u001b[38;5;124m'\u001b[39m\u001b[38;5;124mns\u001b[39m\u001b[38;5;124m'\u001b[39m))\n\u001b[0;32m----> 8\u001b[0m df_plx \u001b[38;5;241m=\u001b[39m \u001b[43mplx\u001b[49m\u001b[38;5;241;43m.\u001b[39;49m\u001b[43mDataFrame\u001b[49m(df)\n",
      "\u001b[0;31mAttributeError\u001b[0m: module 'polynx' has no attribute 'DataFrame'"
     ]
    }
   ],
   "source": [
    "df = pl.DataFrame({\n",
    "    'A':[1, 2, 3, 4], \n",
    "    'B': ['abc', 'bc', 'aaa', None], \n",
    "    'C': ['2023-01-01','2021-01-01','2009-11-01','2000-11-11'],\n",
    "    'E': [1.1, 2.1, 3.5, 0]}\n",
    ").with_columns(pl.col('C').str.to_datetime(format='%Y-%m-%d',time_unit='ns'))\n",
    "\n",
    "df_plx = plx.DataFrame(df)"
   ]
  },
  {
   "cell_type": "code",
   "execution_count": null,
   "metadata": {},
   "outputs": [
    {
     "data": {
      "text/plain": [
       "<_frozen_importlib_external.NamespaceLoader at 0x112085190>"
      ]
     },
     "execution_count": 23,
     "metadata": {},
     "output_type": "execute_result"
    }
   ],
   "source": []
  },
  {
   "cell_type": "code",
   "execution_count": 30,
   "metadata": {},
   "outputs": [
    {
     "data": {
      "text/html": [
       "<div><style>\n",
       ".dataframe > thead > tr,\n",
       ".dataframe > tbody > tr {\n",
       "  text-align: right;\n",
       "  white-space: pre-wrap;\n",
       "}\n",
       "</style>\n",
       "<small>shape: (3, 4)</small><table border=\"1\" class=\"dataframe\"><thead><tr><th>A</th><th>B</th><th>C</th><th>E</th></tr><tr><td>i64</td><td>str</td><td>datetime[ns]</td><td>f64</td></tr></thead><tbody><tr><td>2</td><td>&quot;bc&quot;</td><td>2021-01-01 00:00:00</td><td>2.1</td></tr><tr><td>3</td><td>&quot;aaa&quot;</td><td>2009-11-01 00:00:00</td><td>3.5</td></tr><tr><td>4</td><td>null</td><td>2000-11-11 00:00:00</td><td>0.0</td></tr></tbody></table></div>"
      ],
      "text/plain": [
       "shape: (3, 4)\n",
       "┌─────┬──────┬─────────────────────┬─────┐\n",
       "│ A   ┆ B    ┆ C                   ┆ E   │\n",
       "│ --- ┆ ---  ┆ ---                 ┆ --- │\n",
       "│ i64 ┆ str  ┆ datetime[ns]        ┆ f64 │\n",
       "╞═════╪══════╪═════════════════════╪═════╡\n",
       "│ 2   ┆ bc   ┆ 2021-01-01 00:00:00 ┆ 2.1 │\n",
       "│ 3   ┆ aaa  ┆ 2009-11-01 00:00:00 ┆ 3.5 │\n",
       "│ 4   ┆ null ┆ 2000-11-11 00:00:00 ┆ 0.0 │\n",
       "└─────┴──────┴─────────────────────┴─────┘"
      ]
     },
     "execution_count": 30,
     "metadata": {},
     "output_type": "execute_result"
    }
   ],
   "source": [
    "var5 ='2001-01-01'\n",
    "var3 = '2020-01-01'\n",
    "query_str =  \"@var1 <= A < @var2 & C.dt.year >=2020 & B in @var4\"\n",
    "query_str = \"B.str.contains('a|b')\"\n",
    "query_str = \"C >'2010-01-01' & A > 1\"\n",
    "#query_str = \" B in ['aaa','bc']\"\n",
    "#query_str = \" A == 1\"\n",
    "#query_str = \" A ** 2 - E > 1\"\n",
    "#query_str = \" @var5 < C < @var3 \"\n",
    "#query_str = \" B.str.ends_with('c')\"\n",
    "#query_str = \" not (B.is_null() & A.is_not_null())\"\n",
    "#query_str = \" A ** 2 - E > 1\"\n",
    "query_str = \"A.sum().over('B') > 1\"\n",
    "\n",
    "df_plx.query(query_str)\n",
    "\n",
    "#dir(df)\n"
   ]
  }
 ],
 "metadata": {
  "kernelspec": {
   "display_name": "Python 3",
   "language": "python",
   "name": "python3"
  },
  "language_info": {
   "codemirror_mode": {
    "name": "ipython",
    "version": 3
   },
   "file_extension": ".py",
   "mimetype": "text/x-python",
   "name": "python",
   "nbconvert_exporter": "python",
   "pygments_lexer": "ipython3",
   "version": "3.11.1"
  }
 },
 "nbformat": 4,
 "nbformat_minor": 2
}
