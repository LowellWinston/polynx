{
 "cells": [
  {
   "cell_type": "code",
   "execution_count": 14,
   "metadata": {},
   "outputs": [
    {
     "name": "stdout",
     "output_type": "stream",
     "text": [
      "Found existing installation: polynx 0.1.0\n",
      "Uninstalling polynx-0.1.0:\n",
      "  Successfully uninstalled polynx-0.1.0\n",
      "Note: you may need to restart the kernel to use updated packages.\n"
     ]
    }
   ],
   "source": [
    "#%pip install -e ../.\n",
    "%pip uninstall -y polynx \n",
    "#%pip install update polars"
   ]
  },
  {
   "cell_type": "code",
   "execution_count": 4,
   "metadata": {},
   "outputs": [
    {
     "name": "stdout",
     "output_type": "stream",
     "text": [
      "The autoreload extension is already loaded. To reload it, use:\n",
      "  %reload_ext autoreload\n"
     ]
    },
    {
     "data": {
      "text/plain": [
       "3624"
      ]
     },
     "execution_count": 4,
     "metadata": {},
     "output_type": "execute_result"
    }
   ],
   "source": [
    "%load_ext autoreload\n",
    "%autoreload 2\n",
    "%reload_ext autoreload\n",
    "import sys\n",
    "sys.path.insert(0, \"../src\")\n",
    "import polynx\n",
    "import gc\n",
    "from polynx import DataFrame, LazyFrame\n",
    "import polars as pl\n",
    "import polynx as plx\n",
    "gc.collect()"
   ]
  },
  {
   "cell_type": "code",
   "execution_count": 6,
   "metadata": {},
   "outputs": [],
   "source": [
    "df = pl.DataFrame({\n",
    "    'A':[1, 2, 3, 4], \n",
    "    'B': ['abc', 'bc', 'aaa', None], \n",
    "    'C': ['2023-01-01','2021-01-01','2009-11-01','2000-11-11'],\n",
    "    'E': [1.1, 2.1, 3.5, 0]}\n",
    ").with_columns(pl.col('C').str.to_datetime(format='%Y-%m-%d',time_unit='ns').dt.date())\n",
    "\n",
    "df_plx = DataFrame(df)"
   ]
  },
  {
   "cell_type": "code",
   "execution_count": 8,
   "metadata": {},
   "outputs": [
    {
     "data": {
      "text/plain": [
       "['__class__',\n",
       " '__delattr__',\n",
       " '__dict__',\n",
       " '__dir__',\n",
       " '__doc__',\n",
       " '__eq__',\n",
       " '__format__',\n",
       " '__ge__',\n",
       " '__getattribute__',\n",
       " '__getitem__',\n",
       " '__getstate__',\n",
       " '__gt__',\n",
       " '__hash__',\n",
       " '__init__',\n",
       " '__init_subclass__',\n",
       " '__le__',\n",
       " '__lt__',\n",
       " '__module__',\n",
       " '__ne__',\n",
       " '__new__',\n",
       " '__reduce__',\n",
       " '__reduce_ex__',\n",
       " '__repr__',\n",
       " '__setattr__',\n",
       " '__sizeof__',\n",
       " '__str__',\n",
       " '__subclasshook__',\n",
       " '__weakref__',\n",
       " '_is_wrapped',\n",
       " '_pl',\n",
       " 'asort',\n",
       " 'assign',\n",
       " 'cum_max',\n",
       " 'dd',\n",
       " 'describe',\n",
       " 'dsort',\n",
       " 'eval',\n",
       " 'gb',\n",
       " 'max',\n",
       " 'min',\n",
       " 'pplot',\n",
       " 'query',\n",
       " 'round',\n",
       " 'to_list',\n",
       " 'to_polars',\n",
       " 'ucnt',\n",
       " 'unstack',\n",
       " 'vcnt',\n",
       " 'wc']"
      ]
     },
     "execution_count": 8,
     "metadata": {},
     "output_type": "execute_result"
    }
   ],
   "source": [
    "#len(dir(plx)), len(dir(pl))\n",
    "dir(df_plx)\n"
   ]
  },
  {
   "cell_type": "code",
   "execution_count": 39,
   "metadata": {},
   "outputs": [
    {
     "data": {
      "text/html": [
       "<div><style>\n",
       ".dataframe > thead > tr,\n",
       ".dataframe > tbody > tr {\n",
       "  text-align: right;\n",
       "  white-space: pre-wrap;\n",
       "}\n",
       "</style>\n",
       "<small>shape: (4, 4)</small><table border=\"1\" class=\"dataframe\"><thead><tr><th>A</th><th>B</th><th>C</th><th>E</th></tr><tr><td>i64</td><td>str</td><td>date</td><td>i32</td></tr></thead><tbody><tr><td>1</td><td>&quot;abc&quot;</td><td>2023-01-01</td><td>1</td></tr><tr><td>2</td><td>&quot;bc&quot;</td><td>2021-01-01</td><td>1</td></tr><tr><td>3</td><td>&quot;aaa&quot;</td><td>2009-11-01</td><td>1</td></tr><tr><td>4</td><td>null</td><td>2000-11-11</td><td>1</td></tr></tbody></table></div>"
      ],
      "text/plain": [
       "PolynxDataFrame:\n",
       "shape: (4, 4)\n",
       "┌─────┬──────┬────────────┬─────┐\n",
       "│ A   ┆ B    ┆ C          ┆ E   │\n",
       "│ --- ┆ ---  ┆ ---        ┆ --- │\n",
       "│ i64 ┆ str  ┆ date       ┆ i32 │\n",
       "╞═════╪══════╪════════════╪═════╡\n",
       "│ 1   ┆ abc  ┆ 2023-01-01 ┆ 1   │\n",
       "│ 2   ┆ bc   ┆ 2021-01-01 ┆ 1   │\n",
       "│ 3   ┆ aaa  ┆ 2009-11-01 ┆ 1   │\n",
       "│ 4   ┆ null ┆ 2000-11-11 ┆ 1   │\n",
       "└─────┴──────┴────────────┴─────┘"
      ]
     },
     "execution_count": 39,
     "metadata": {},
     "output_type": "execute_result"
    }
   ],
   "source": [
    "#dir(df_plx.lazy())\n",
    "df_plx.wc(\"E = 1\")\n",
    "#type(df_plx)"
   ]
  },
  {
   "cell_type": "code",
   "execution_count": 12,
   "metadata": {},
   "outputs": [
    {
     "data": {
      "text/html": [
       "<div><style>\n",
       ".dataframe > thead > tr,\n",
       ".dataframe > tbody > tr {\n",
       "  text-align: right;\n",
       "  white-space: pre-wrap;\n",
       "}\n",
       "</style>\n",
       "<small>shape: (9, 5)</small><table border=\"1\" class=\"dataframe\"><thead><tr><th>statistic</th><th>A</th><th>B</th><th>C</th><th>E</th></tr><tr><td>str</td><td>f64</td><td>str</td><td>str</td><td>f64</td></tr></thead><tbody><tr><td>&quot;count&quot;</td><td>4.0</td><td>&quot;3&quot;</td><td>&quot;4&quot;</td><td>4.0</td></tr><tr><td>&quot;null_count&quot;</td><td>0.0</td><td>&quot;1&quot;</td><td>&quot;0&quot;</td><td>0.0</td></tr><tr><td>&quot;mean&quot;</td><td>2.5</td><td>null</td><td>&quot;2013-09-03 18:00:00&quot;</td><td>1.675</td></tr><tr><td>&quot;std&quot;</td><td>1.290994</td><td>null</td><td>null</td><td>1.488568</td></tr><tr><td>&quot;min&quot;</td><td>1.0</td><td>&quot;aaa&quot;</td><td>&quot;2000-11-11&quot;</td><td>0.0</td></tr><tr><td>&quot;25%&quot;</td><td>2.0</td><td>null</td><td>&quot;2009-11-01&quot;</td><td>1.1</td></tr><tr><td>&quot;50%&quot;</td><td>3.0</td><td>null</td><td>&quot;2021-01-01&quot;</td><td>2.1</td></tr><tr><td>&quot;75%&quot;</td><td>3.0</td><td>null</td><td>&quot;2021-01-01&quot;</td><td>2.1</td></tr><tr><td>&quot;max&quot;</td><td>4.0</td><td>&quot;bc&quot;</td><td>&quot;2023-01-01&quot;</td><td>3.5</td></tr></tbody></table></div>"
      ],
      "text/plain": [
       "shape: (9, 5)\n",
       "┌────────────┬──────────┬──────┬─────────────────────┬──────────┐\n",
       "│ statistic  ┆ A        ┆ B    ┆ C                   ┆ E        │\n",
       "│ ---        ┆ ---      ┆ ---  ┆ ---                 ┆ ---      │\n",
       "│ str        ┆ f64      ┆ str  ┆ str                 ┆ f64      │\n",
       "╞════════════╪══════════╪══════╪═════════════════════╪══════════╡\n",
       "│ count      ┆ 4.0      ┆ 3    ┆ 4                   ┆ 4.0      │\n",
       "│ null_count ┆ 0.0      ┆ 1    ┆ 0                   ┆ 0.0      │\n",
       "│ mean       ┆ 2.5      ┆ null ┆ 2013-09-03 18:00:00 ┆ 1.675    │\n",
       "│ std        ┆ 1.290994 ┆ null ┆ null                ┆ 1.488568 │\n",
       "│ min        ┆ 1.0      ┆ aaa  ┆ 2000-11-11          ┆ 0.0      │\n",
       "│ 25%        ┆ 2.0      ┆ null ┆ 2009-11-01          ┆ 1.1      │\n",
       "│ 50%        ┆ 3.0      ┆ null ┆ 2021-01-01          ┆ 2.1      │\n",
       "│ 75%        ┆ 3.0      ┆ null ┆ 2021-01-01          ┆ 2.1      │\n",
       "│ max        ┆ 4.0      ┆ bc   ┆ 2023-01-01          ┆ 3.5      │\n",
       "└────────────┴──────────┴──────┴─────────────────────┴──────────┘"
      ]
     },
     "execution_count": 12,
     "metadata": {},
     "output_type": "execute_result"
    }
   ],
   "source": [
    "df_plx.lazy().describe()"
   ]
  },
  {
   "cell_type": "code",
   "execution_count": 12,
   "metadata": {},
   "outputs": [
    {
     "data": {
      "text/html": [
       "<div><style>\n",
       ".dataframe > thead > tr,\n",
       ".dataframe > tbody > tr {\n",
       "  text-align: right;\n",
       "  white-space: pre-wrap;\n",
       "}\n",
       "</style>\n",
       "<small>shape: (4, 19)</small><table border=\"1\" class=\"dataframe\"><thead><tr><th>B</th><th>A_count</th><th>A_nulls</th><th>A_mean</th><th>A_std</th><th>A_min</th><th>A_25%</th><th>A_50%</th><th>A_75%</th><th>A_max</th><th>E_count</th><th>E_nulls</th><th>E_mean</th><th>E_std</th><th>E_min</th><th>E_25%</th><th>E_50%</th><th>E_75%</th><th>E_max</th></tr><tr><td>str</td><td>u32</td><td>u32</td><td>f64</td><td>f64</td><td>i64</td><td>f64</td><td>f64</td><td>f64</td><td>i64</td><td>u32</td><td>u32</td><td>f64</td><td>f64</td><td>f64</td><td>f64</td><td>f64</td><td>f64</td><td>f64</td></tr></thead><tbody><tr><td>&quot;abc&quot;</td><td>1</td><td>0</td><td>1.0</td><td>null</td><td>1</td><td>1.0</td><td>1.0</td><td>1.0</td><td>1</td><td>1</td><td>0</td><td>1.1</td><td>null</td><td>1.1</td><td>1.1</td><td>1.1</td><td>1.1</td><td>1.1</td></tr><tr><td>&quot;bc&quot;</td><td>1</td><td>0</td><td>2.0</td><td>null</td><td>2</td><td>2.0</td><td>2.0</td><td>2.0</td><td>2</td><td>1</td><td>0</td><td>2.1</td><td>null</td><td>2.1</td><td>2.1</td><td>2.1</td><td>2.1</td><td>2.1</td></tr><tr><td>null</td><td>1</td><td>0</td><td>4.0</td><td>null</td><td>4</td><td>4.0</td><td>4.0</td><td>4.0</td><td>4</td><td>1</td><td>0</td><td>0.0</td><td>null</td><td>0.0</td><td>0.0</td><td>0.0</td><td>0.0</td><td>0.0</td></tr><tr><td>&quot;aaa&quot;</td><td>1</td><td>0</td><td>3.0</td><td>null</td><td>3</td><td>3.0</td><td>3.0</td><td>3.0</td><td>3</td><td>1</td><td>0</td><td>3.5</td><td>null</td><td>3.5</td><td>3.5</td><td>3.5</td><td>3.5</td><td>3.5</td></tr></tbody></table></div>"
      ],
      "text/plain": [
       "PolynxDataFrame:\n",
       "shape: (4, 19)\n",
       "┌──────┬─────────┬─────────┬────────┬───┬───────┬───────┬───────┬───────┐\n",
       "│ B    ┆ A_count ┆ A_nulls ┆ A_mean ┆ … ┆ E_25% ┆ E_50% ┆ E_75% ┆ E_max │\n",
       "│ ---  ┆ ---     ┆ ---     ┆ ---    ┆   ┆ ---   ┆ ---   ┆ ---   ┆ ---   │\n",
       "│ str  ┆ u32     ┆ u32     ┆ f64    ┆   ┆ f64   ┆ f64   ┆ f64   ┆ f64   │\n",
       "╞══════╪═════════╪═════════╪════════╪═══╪═══════╪═══════╪═══════╪═══════╡\n",
       "│ abc  ┆ 1       ┆ 0       ┆ 1.0    ┆ … ┆ 1.1   ┆ 1.1   ┆ 1.1   ┆ 1.1   │\n",
       "│ bc   ┆ 1       ┆ 0       ┆ 2.0    ┆ … ┆ 2.1   ┆ 2.1   ┆ 2.1   ┆ 2.1   │\n",
       "│ null ┆ 1       ┆ 0       ┆ 4.0    ┆ … ┆ 0.0   ┆ 0.0   ┆ 0.0   ┆ 0.0   │\n",
       "│ aaa  ┆ 1       ┆ 0       ┆ 3.0    ┆ … ┆ 3.5   ┆ 3.5   ┆ 3.5   ┆ 3.5   │\n",
       "└──────┴─────────┴─────────┴────────┴───┴───────┴───────┴───────┴───────┘"
      ]
     },
     "execution_count": 12,
     "metadata": {},
     "output_type": "execute_result"
    }
   ],
   "source": [
    "#plx.DataFrame()\n",
    "df_plx.describe(group_keys='B', selected_columns=['A','E']).round()"
   ]
  },
  {
   "cell_type": "code",
   "execution_count": 22,
   "metadata": {},
   "outputs": [
    {
     "data": {
      "text/html": [
       "<div><style>\n",
       ".dataframe > thead > tr,\n",
       ".dataframe > tbody > tr {\n",
       "  text-align: right;\n",
       "  white-space: pre-wrap;\n",
       "}\n",
       "</style>\n",
       "<small>shape: (3, 4)</small><table border=\"1\" class=\"dataframe\"><thead><tr><th>A</th><th>B</th><th>C</th><th>E</th></tr><tr><td>i64</td><td>str</td><td>datetime[ns]</td><td>f64</td></tr></thead><tbody><tr><td>2</td><td>&quot;bc&quot;</td><td>2021-01-01 00:00:00</td><td>2.1</td></tr><tr><td>3</td><td>&quot;aaa&quot;</td><td>2009-11-01 00:00:00</td><td>3.5</td></tr><tr><td>4</td><td>null</td><td>2000-11-11 00:00:00</td><td>0.0</td></tr></tbody></table></div>"
      ],
      "text/plain": [
       "PolynxDataFrame:\n",
       "shape: (3, 4)\n",
       "┌─────┬──────┬─────────────────────┬─────┐\n",
       "│ A   ┆ B    ┆ C                   ┆ E   │\n",
       "│ --- ┆ ---  ┆ ---                 ┆ --- │\n",
       "│ i64 ┆ str  ┆ datetime[ns]        ┆ f64 │\n",
       "╞═════╪══════╪═════════════════════╪═════╡\n",
       "│ 2   ┆ bc   ┆ 2021-01-01 00:00:00 ┆ 2.1 │\n",
       "│ 3   ┆ aaa  ┆ 2009-11-01 00:00:00 ┆ 3.5 │\n",
       "│ 4   ┆ null ┆ 2000-11-11 00:00:00 ┆ 0.0 │\n",
       "└─────┴──────┴─────────────────────┴─────┘"
      ]
     },
     "execution_count": 22,
     "metadata": {},
     "output_type": "execute_result"
    }
   ],
   "source": [
    "var5 ='2001-01-01'\n",
    "var3 = '2020-01-01'\n",
    "query_str =  \"@var1 <= A < @var2 & C.dt.year >=2020 & B in @var4\"\n",
    "query_str = \"B.str.contains('a|b')\"\n",
    "query_str = \"C >'2010-01-01' & A > 1\"\n",
    "#query_str = \" B in ['aaa','bc']\"\n",
    "#query_str = \" A == 1\"\n",
    "#query_str = \" A ** 2 - E > 1\"\n",
    "#query_str = \" @var5 < C < @var3 \"\n",
    "#query_str = \" B.str.ends_with('c')\"\n",
    "#query_str = \" not (B.is_null() & A.is_not_null())\"\n",
    "#query_str = \" A ** 2 - E > 1\"\n",
    "query_str = \"A.sum().over('B') > 1\"\n",
    "\n",
    "df_plx.query(query_str)\n",
    "\n",
    "#dir(df)\n"
   ]
  }
 ],
 "metadata": {
  "kernelspec": {
   "display_name": "Python 3",
   "language": "python",
   "name": "python3"
  },
  "language_info": {
   "codemirror_mode": {
    "name": "ipython",
    "version": 3
   },
   "file_extension": ".py",
   "mimetype": "text/x-python",
   "name": "python",
   "nbconvert_exporter": "python",
   "pygments_lexer": "ipython3",
   "version": "3.11.1"
  }
 },
 "nbformat": 4,
 "nbformat_minor": 2
}
