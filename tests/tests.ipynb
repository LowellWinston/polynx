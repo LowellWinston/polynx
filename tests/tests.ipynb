{
 "cells": [
  {
   "cell_type": "code",
   "execution_count": null,
   "metadata": {},
   "outputs": [
    {
     "name": "stdout",
     "output_type": "stream",
     "text": [
      "Found existing installation: polynx 0.1.0\n",
      "Uninstalling polynx-0.1.0:\n",
      "  Successfully uninstalled polynx-0.1.0\n",
      "Note: you may need to restart the kernel to use updated packages.\n"
     ]
    }
   ],
   "source": [
    "#%pip install -e ../.\n",
    "#%pip uninstall -y polynx \n",
    "#%pip install update polars"
   ]
  },
  {
   "cell_type": "code",
   "execution_count": 4,
   "metadata": {},
   "outputs": [
    {
     "name": "stdout",
     "output_type": "stream",
     "text": [
      "The autoreload extension is already loaded. To reload it, use:\n",
      "  %reload_ext autoreload\n"
     ]
    },
    {
     "data": {
      "text/plain": [
       "542"
      ]
     },
     "execution_count": 4,
     "metadata": {},
     "output_type": "execute_result"
    }
   ],
   "source": [
    "%load_ext autoreload\n",
    "%autoreload 2\n",
    "%reload_ext autoreload\n",
    "import sys\n",
    "sys.path.insert(0, \"../src\")\n",
    "import polynx\n",
    "import gc\n",
    "from polynx import DataFrame, LazyFrame\n",
    "import polars as pl\n",
    "import polynx as plx\n",
    "gc.collect()"
   ]
  },
  {
   "cell_type": "code",
   "execution_count": 5,
   "metadata": {},
   "outputs": [],
   "source": [
    "#import pandas as pd\n",
    "df = plx.read_csv(\"../../../../Downloads/Chase6317_Activity_20250107.CSV\",truncate_ragged_lines=True)\n"
   ]
  },
  {
   "cell_type": "code",
   "execution_count": 12,
   "metadata": {},
   "outputs": [
    {
     "data": {
      "text/html": [
       "<div><style>\n",
       ".dataframe > thead > tr,\n",
       ".dataframe > tbody > tr {\n",
       "  text-align: right;\n",
       "  white-space: pre-wrap;\n",
       "}\n",
       "</style>\n",
       "<small>shape: (5, 7)</small><table border=\"1\" class=\"dataframe\"><thead><tr><th>Details</th><th>Posting Date</th><th>Description</th><th>Amount</th><th>Type</th><th>Balance</th><th>Check or Slip #</th></tr><tr><td>str</td><td>str</td><td>str</td><td>f64</td><td>str</td><td>str</td><td>i64</td></tr></thead><tbody><tr><td>&quot;DEBIT&quot;</td><td>&quot;01/07/2025&quot;</td><td>&quot;ONLINE TRANSFER TO CHK ...9592…</td><td>-1500.0</td><td>&quot;ACCT_XFER&quot;</td><td>&quot; &quot;</td><td>null</td></tr><tr><td>&quot;DEBIT&quot;</td><td>&quot;01/06/2025&quot;</td><td>&quot;HOME DEPOT&nbsp;&nbsp;&nbsp;&nbsp;&nbsp;&nbsp;&nbsp;AUTO PYMT&nbsp;&nbsp;72…</td><td>-59.62</td><td>&quot;ACH_DEBIT&quot;</td><td>&quot;3348.72&quot;</td><td>null</td></tr><tr><td>&quot;DEBIT&quot;</td><td>&quot;01/06/2025&quot;</td><td>&quot;Zelle payment to HENGYAN 23197…</td><td>-215.0</td><td>&quot;QUICKPAY_DEBIT&quot;</td><td>&quot;3408.34&quot;</td><td>null</td></tr><tr><td>&quot;CREDIT&quot;</td><td>&quot;01/06/2025&quot;</td><td>&quot;WIREDCOMMUTE LLC PARKING-CR&nbsp;&nbsp;&nbsp;…</td><td>325.0</td><td>&quot;ACH_CREDIT&quot;</td><td>&quot;3623.34&quot;</td><td>null</td></tr><tr><td>&quot;DEBIT&quot;</td><td>&quot;01/03/2025&quot;</td><td>&quot;IIT CITIBANK&nbsp;&nbsp;&nbsp;&nbsp;&nbsp;CITIXFR&nbsp;&nbsp;&nbsp;&nbsp;II…</td><td>-250.0</td><td>&quot;ACH_DEBIT&quot;</td><td>&quot;3298.34&quot;</td><td>null</td></tr></tbody></table></div>"
      ],
      "text/plain": [
       "PolynxDataFrame:\n",
       "shape: (5, 7)\n",
       "┌─────────┬──────────────┬──────────────────┬─────────┬────────────────┬─────────┬─────────────────┐\n",
       "│ Details ┆ Posting Date ┆ Description      ┆ Amount  ┆ Type           ┆ Balance ┆ Check or Slip # │\n",
       "│ ---     ┆ ---          ┆ ---              ┆ ---     ┆ ---            ┆ ---     ┆ ---             │\n",
       "│ str     ┆ str          ┆ str              ┆ f64     ┆ str            ┆ str     ┆ i64             │\n",
       "╞═════════╪══════════════╪══════════════════╪═════════╪════════════════╪═════════╪═════════════════╡\n",
       "│ DEBIT   ┆ 01/07/2025   ┆ ONLINE TRANSFER  ┆ -1500.0 ┆ ACCT_XFER      ┆         ┆ null            │\n",
       "│         ┆              ┆ TO CHK ...9592…  ┆         ┆                ┆         ┆                 │\n",
       "│ DEBIT   ┆ 01/06/2025   ┆ HOME DEPOT       ┆ -59.62  ┆ ACH_DEBIT      ┆ 3348.72 ┆ null            │\n",
       "│         ┆              ┆ AUTO PYMT  72…   ┆         ┆                ┆         ┆                 │\n",
       "│ DEBIT   ┆ 01/06/2025   ┆ Zelle payment to ┆ -215.0  ┆ QUICKPAY_DEBIT ┆ 3408.34 ┆ null            │\n",
       "│         ┆              ┆ HENGYAN 23197…   ┆         ┆                ┆         ┆                 │\n",
       "│ CREDIT  ┆ 01/06/2025   ┆ WIREDCOMMUTE LLC ┆ 325.0   ┆ ACH_CREDIT     ┆ 3623.34 ┆ null            │\n",
       "│         ┆              ┆ PARKING-CR   …   ┆         ┆                ┆         ┆                 │\n",
       "│ DEBIT   ┆ 01/03/2025   ┆ IIT CITIBANK     ┆ -250.0  ┆ ACH_DEBIT      ┆ 3298.34 ┆ null            │\n",
       "│         ┆              ┆ CITIXFR    II…   ┆         ┆                ┆         ┆                 │\n",
       "└─────────┴──────────────┴──────────────────┴─────────┴────────────────┴─────────┴─────────────────┘"
      ]
     },
     "execution_count": 12,
     "metadata": {},
     "output_type": "execute_result"
    }
   ],
   "source": [
    "df.head()\n"
   ]
  },
  {
   "cell_type": "code",
   "execution_count": null,
   "metadata": {},
   "outputs": [
    {
     "data": {
      "text/html": [
       "<div><style>\n",
       ".dataframe > thead > tr,\n",
       ".dataframe > tbody > tr {\n",
       "  text-align: right;\n",
       "  white-space: pre-wrap;\n",
       "}\n",
       "</style>\n",
       "<small>shape: (7, 2)</small><table border=\"1\" class=\"dataframe\"><thead><tr><th>Type</th><th>count</th></tr><tr><td>str</td><td>u32</td></tr></thead><tbody><tr><td>&quot;ACH_DEBIT&quot;</td><td>67</td></tr><tr><td>&quot;ACCT_XFER&quot;</td><td>25</td></tr><tr><td>&quot;DEBIT_CARD&quot;</td><td>10</td></tr><tr><td>&quot;ATM&quot;</td><td>4</td></tr><tr><td>&quot;LOAN_PMT&quot;</td><td>4</td></tr><tr><td>&quot;QUICKPAY_DEBIT&quot;</td><td>4</td></tr><tr><td>&quot;CHASE_TO_PARTNERFI&quot;</td><td>3</td></tr></tbody></table></div>"
      ],
      "text/plain": [
       "PolynxDataFrame:\n",
       "shape: (7, 2)\n",
       "┌────────────────────┬───────┐\n",
       "│ Type               ┆ count │\n",
       "│ ---                ┆ ---   │\n",
       "│ str                ┆ u32   │\n",
       "╞════════════════════╪═══════╡\n",
       "│ ACH_DEBIT          ┆ 67    │\n",
       "│ ACCT_XFER          ┆ 25    │\n",
       "│ DEBIT_CARD         ┆ 10    │\n",
       "│ ATM                ┆ 4     │\n",
       "│ LOAN_PMT           ┆ 4     │\n",
       "│ QUICKPAY_DEBIT     ┆ 4     │\n",
       "│ CHASE_TO_PARTNERFI ┆ 3     │\n",
       "└────────────────────┴───────┘"
      ]
     },
     "execution_count": 22,
     "metadata": {},
     "output_type": "execute_result"
    }
   ],
   "source": [
    "df.query(\"'2024-01-01' <=`Posting Date`.str.to_date(strict=False) <'2025-01-01' & Amount < 0\").vcnt('Type')"
   ]
  },
  {
   "cell_type": "code",
   "execution_count": 64,
   "metadata": {},
   "outputs": [
    {
     "data": {
      "text/html": [
       "<div><style>\n",
       ".dataframe > thead > tr,\n",
       ".dataframe > tbody > tr {\n",
       "  text-align: right;\n",
       "  white-space: pre-wrap;\n",
       "}\n",
       "</style>\n",
       "<small>shape: (6, 10)</small><table border=\"1\" class=\"dataframe\"><thead><tr><th>Type</th><th>Amount_count</th><th>Amount_nulls</th><th>Amount_mean</th><th>Amount_std</th><th>Amount_min</th><th>Amount_25%</th><th>Amount_50%</th><th>Amount_75%</th><th>Amount_max</th></tr><tr><td>str</td><td>u32</td><td>u32</td><td>f64</td><td>f64</td><td>f64</td><td>f64</td><td>f64</td><td>f64</td><td>f64</td></tr></thead><tbody><tr><td>&quot;CHASE_TO_PARTNERFI&quot;</td><td>3</td><td>0</td><td>-903.0</td><td>548.0</td><td>-1220.0</td><td>-1220.0</td><td>-1220.0</td><td>-270.0</td><td>-270.0</td></tr><tr><td>&quot;ATM&quot;</td><td>4</td><td>0</td><td>-390.0</td><td>411.0</td><td>-1000.0</td><td>-240.0</td><td>-220.0</td><td>-220.0</td><td>-100.0</td></tr><tr><td>&quot;LOAN_PMT&quot;</td><td>4</td><td>0</td><td>-1030.0</td><td>633.0</td><td>-1834.0</td><td>-1000.0</td><td>-1000.0</td><td>-1000.0</td><td>-286.0</td></tr><tr><td>&quot;QUICKPAY_DEBIT&quot;</td><td>4</td><td>0</td><td>-178.0</td><td>74.0</td><td>-215.0</td><td>-215.0</td><td>-215.0</td><td>-215.0</td><td>-68.0</td></tr><tr><td>&quot;DEBIT_CARD&quot;</td><td>10</td><td>0</td><td>-1053.0</td><td>44.0</td><td>-1110.0</td><td>-1077.0</td><td>-1048.0</td><td>-1039.0</td><td>-959.0</td></tr><tr><td>&quot;ACH_DEBIT&quot;</td><td>67</td><td>0</td><td>-1895.0</td><td>1974.0</td><td>-5100.0</td><td>-3800.0</td><td>-886.0</td><td>-62.0</td><td>-21.0</td></tr></tbody></table></div>"
      ],
      "text/plain": [
       "PolynxDataFrame:\n",
       "shape: (6, 10)\n",
       "┌───────────┬───────────┬───────────┬───────────┬───┬───────────┬───────────┬───────────┬──────────┐\n",
       "│ Type      ┆ Amount_co ┆ Amount_nu ┆ Amount_me ┆ … ┆ Amount_25 ┆ Amount_50 ┆ Amount_75 ┆ Amount_m │\n",
       "│ ---       ┆ unt       ┆ lls       ┆ an        ┆   ┆ %         ┆ %         ┆ %         ┆ ax       │\n",
       "│ str       ┆ ---       ┆ ---       ┆ ---       ┆   ┆ ---       ┆ ---       ┆ ---       ┆ ---      │\n",
       "│           ┆ u32       ┆ u32       ┆ f64       ┆   ┆ f64       ┆ f64       ┆ f64       ┆ f64      │\n",
       "╞═══════════╪═══════════╪═══════════╪═══════════╪═══╪═══════════╪═══════════╪═══════════╪══════════╡\n",
       "│ CHASE_TO_ ┆ 3         ┆ 0         ┆ -903.0    ┆ … ┆ -1220.0   ┆ -1220.0   ┆ -270.0    ┆ -270.0   │\n",
       "│ PARTNERFI ┆           ┆           ┆           ┆   ┆           ┆           ┆           ┆          │\n",
       "│ ATM       ┆ 4         ┆ 0         ┆ -390.0    ┆ … ┆ -240.0    ┆ -220.0    ┆ -220.0    ┆ -100.0   │\n",
       "│ LOAN_PMT  ┆ 4         ┆ 0         ┆ -1030.0   ┆ … ┆ -1000.0   ┆ -1000.0   ┆ -1000.0   ┆ -286.0   │\n",
       "│ QUICKPAY_ ┆ 4         ┆ 0         ┆ -178.0    ┆ … ┆ -215.0    ┆ -215.0    ┆ -215.0    ┆ -68.0    │\n",
       "│ DEBIT     ┆           ┆           ┆           ┆   ┆           ┆           ┆           ┆          │\n",
       "│ DEBIT_CAR ┆ 10        ┆ 0         ┆ -1053.0   ┆ … ┆ -1077.0   ┆ -1048.0   ┆ -1039.0   ┆ -959.0   │\n",
       "│ D         ┆           ┆           ┆           ┆   ┆           ┆           ┆           ┆          │\n",
       "│ ACH_DEBIT ┆ 67        ┆ 0         ┆ -1895.0   ┆ … ┆ -3800.0   ┆ -886.0    ┆ -62.0     ┆ -21.0    │\n",
       "└───────────┴───────────┴───────────┴───────────┴───┴───────────┴───────────┴───────────┴──────────┘"
      ]
     },
     "execution_count": 64,
     "metadata": {},
     "output_type": "execute_result"
    }
   ],
   "source": [
    "(\n",
    "    df.drop(['Balance','Check or Slip #','Details'])\n",
    "    .query(\"'2024-01-01' <=`Posting Date`.str.to_date(strict=False) <'2025-01-01' & Amount < 0 & Type !='ACCT_XFER'\")\n",
    "    .describe(group_keys ='Type',selected_columns='Amount')\n",
    "    .round(0)\n",
    "    #.group_by('Type')    \n",
    "    #.agg(pl.all().sample(1))\n",
    "    #.agg(pl.all().first())\n",
    ")"
   ]
  },
  {
   "cell_type": "code",
   "execution_count": 92,
   "metadata": {},
   "outputs": [
    {
     "data": {
      "text/html": [
       "<div>\n",
       "<style scoped>\n",
       "    .dataframe tbody tr th:only-of-type {\n",
       "        vertical-align: middle;\n",
       "    }\n",
       "\n",
       "    .dataframe tbody tr th {\n",
       "        vertical-align: top;\n",
       "    }\n",
       "\n",
       "    .dataframe thead th {\n",
       "        text-align: right;\n",
       "    }\n",
       "</style>\n",
       "<table border=\"1\" class=\"dataframe\">\n",
       "  <thead>\n",
       "    <tr style=\"text-align: right;\">\n",
       "      <th></th>\n",
       "      <th>Posting Date</th>\n",
       "      <th>Description</th>\n",
       "      <th>Amount</th>\n",
       "      <th>Type</th>\n",
       "    </tr>\n",
       "  </thead>\n",
       "  <tbody>\n",
       "    <tr>\n",
       "      <th>0</th>\n",
       "      <td>10/01/2024</td>\n",
       "      <td>YSI*Brooklyn Point 332-4564450 NY            1...</td>\n",
       "      <td>-1109.57</td>\n",
       "      <td>DEBIT_CARD</td>\n",
       "    </tr>\n",
       "    <tr>\n",
       "      <th>1</th>\n",
       "      <td>09/03/2024</td>\n",
       "      <td>YSI*Brooklyn Point 332-4564450 NY            0...</td>\n",
       "      <td>-1102.27</td>\n",
       "      <td>DEBIT_CARD</td>\n",
       "    </tr>\n",
       "    <tr>\n",
       "      <th>2</th>\n",
       "      <td>12/02/2024</td>\n",
       "      <td>YSI*Brooklyn Point 332-4564450 NY            1...</td>\n",
       "      <td>-1077.48</td>\n",
       "      <td>DEBIT_CARD</td>\n",
       "    </tr>\n",
       "    <tr>\n",
       "      <th>3</th>\n",
       "      <td>05/01/2024</td>\n",
       "      <td>YSI*Brooklyn Point 332-4564450 NY            0...</td>\n",
       "      <td>-1075.61</td>\n",
       "      <td>DEBIT_CARD</td>\n",
       "    </tr>\n",
       "    <tr>\n",
       "      <th>4</th>\n",
       "      <td>11/01/2024</td>\n",
       "      <td>YSI*Brooklyn Point 332-4564450 NY            1...</td>\n",
       "      <td>-1059.03</td>\n",
       "      <td>DEBIT_CARD</td>\n",
       "    </tr>\n",
       "    <tr>\n",
       "      <th>5</th>\n",
       "      <td>07/01/2024</td>\n",
       "      <td>YSI*Brooklyn Point 332-4564450 NY            0...</td>\n",
       "      <td>-1047.72</td>\n",
       "      <td>DEBIT_CARD</td>\n",
       "    </tr>\n",
       "    <tr>\n",
       "      <th>6</th>\n",
       "      <td>01/03/2024</td>\n",
       "      <td>138 Willoughby A PAYMENT    071001732233095 WE...</td>\n",
       "      <td>-1040.98</td>\n",
       "      <td>ACH_DEBIT</td>\n",
       "    </tr>\n",
       "    <tr>\n",
       "      <th>7</th>\n",
       "      <td>08/01/2024</td>\n",
       "      <td>YSI*Brooklyn Point 332-4564450 NY            0...</td>\n",
       "      <td>-1040.76</td>\n",
       "      <td>DEBIT_CARD</td>\n",
       "    </tr>\n",
       "    <tr>\n",
       "      <th>8</th>\n",
       "      <td>03/11/2024</td>\n",
       "      <td>YSI*Brooklyn Point 332-4564450 NY            0...</td>\n",
       "      <td>-1038.60</td>\n",
       "      <td>DEBIT_CARD</td>\n",
       "    </tr>\n",
       "    <tr>\n",
       "      <th>9</th>\n",
       "      <td>02/02/2024</td>\n",
       "      <td>138 Willoughby A PAYMENT    071001733139515 WE...</td>\n",
       "      <td>-1019.92</td>\n",
       "      <td>ACH_DEBIT</td>\n",
       "    </tr>\n",
       "    <tr>\n",
       "      <th>10</th>\n",
       "      <td>06/03/2024</td>\n",
       "      <td>YSI*Brooklyn Point 332-4564450 NY            0...</td>\n",
       "      <td>-1017.76</td>\n",
       "      <td>DEBIT_CARD</td>\n",
       "    </tr>\n",
       "    <tr>\n",
       "      <th>11</th>\n",
       "      <td>04/01/2024</td>\n",
       "      <td>YSI*Brooklyn Point 332-4564450 NY            0...</td>\n",
       "      <td>-959.41</td>\n",
       "      <td>DEBIT_CARD</td>\n",
       "    </tr>\n",
       "  </tbody>\n",
       "</table>\n",
       "</div>"
      ],
      "text/plain": [
       "   Posting Date                                        Description   Amount  \\\n",
       "0    10/01/2024  YSI*Brooklyn Point 332-4564450 NY            1... -1109.57   \n",
       "1    09/03/2024  YSI*Brooklyn Point 332-4564450 NY            0... -1102.27   \n",
       "2    12/02/2024  YSI*Brooklyn Point 332-4564450 NY            1... -1077.48   \n",
       "3    05/01/2024  YSI*Brooklyn Point 332-4564450 NY            0... -1075.61   \n",
       "4    11/01/2024  YSI*Brooklyn Point 332-4564450 NY            1... -1059.03   \n",
       "5    07/01/2024  YSI*Brooklyn Point 332-4564450 NY            0... -1047.72   \n",
       "6    01/03/2024  138 Willoughby A PAYMENT    071001732233095 WE... -1040.98   \n",
       "7    08/01/2024  YSI*Brooklyn Point 332-4564450 NY            0... -1040.76   \n",
       "8    03/11/2024  YSI*Brooklyn Point 332-4564450 NY            0... -1038.60   \n",
       "9    02/02/2024  138 Willoughby A PAYMENT    071001733139515 WE... -1019.92   \n",
       "10   06/03/2024  YSI*Brooklyn Point 332-4564450 NY            0... -1017.76   \n",
       "11   04/01/2024  YSI*Brooklyn Point 332-4564450 NY            0...  -959.41   \n",
       "\n",
       "          Type  \n",
       "0   DEBIT_CARD  \n",
       "1   DEBIT_CARD  \n",
       "2   DEBIT_CARD  \n",
       "3   DEBIT_CARD  \n",
       "4   DEBIT_CARD  \n",
       "5   DEBIT_CARD  \n",
       "6    ACH_DEBIT  \n",
       "7   DEBIT_CARD  \n",
       "8   DEBIT_CARD  \n",
       "9    ACH_DEBIT  \n",
       "10  DEBIT_CARD  \n",
       "11  DEBIT_CARD  "
      ]
     },
     "execution_count": 92,
     "metadata": {},
     "output_type": "execute_result"
    }
   ],
   "source": [
    "(\n",
    "    df.drop(['Balance','Check or Slip #','Details'])\n",
    "    #.query(\"'2024-01-01' <=`Posting Date`.str.to_date(strict=False) <'2025-01-01' & Amount < 0 & Type !='ACCT_XFER' & ~Description.str.contains('NSM|CITIZE|GODD|Guo|Brooklyn|138|ATM|HOMETOWN')\")\n",
    "    .query(\"'2024-01-01' <=`Posting Date`.str.to_date(strict=False) <'2025-01-01' & Amount < 0 & Type !='ACCT_XFER' & Description.str.contains('(?i)Brooklyn|138')\")\n",
    "    .asort('Amount')\n",
    "    .to_pandas()\n",
    "    #.eval(\"Amount.sum()\")\n",
    "    #.query(\"'2024-01-01' <=`Posting Date`.str.to_date(strict=False) <'2025-01-01' & Amount < 0 & Type !='ACCT_XFER'\")\n",
    "    #.asort('Amount')\n",
    "    #.gb('Type', '(Amount.sum()/1e3).round(1)')\n",
    "    #.asort('Amount')\n",
    "    #.group_by('Type').agg(pl.all().sample(1).first()).asort('Amount')\n",
    "    #.group_by('Type').agg(pl.all().first())\n",
    ")"
   ]
  },
  {
   "cell_type": "code",
   "execution_count": 71,
   "metadata": {},
   "outputs": [],
   "source": [
    "df = pl.DataFrame({\n",
    "    'A':[1, 2, 3, 4], \n",
    "    'B': ['abc', 'bc', 'aaa', None], \n",
    "    'C': ['2023-01-01','2021-01-01','2009-11-01','2000-11-11'],\n",
    "    'E': [1.1, 2.1, 3.5, 0]}\n",
    ").with_columns(pl.col('C').str.to_datetime(format='%Y-%m-%d',time_unit='ns').dt.date())\n",
    "\n",
    "df_plx = DataFrame(df)"
   ]
  },
  {
   "cell_type": "code",
   "execution_count": 12,
   "metadata": {},
   "outputs": [
    {
     "data": {
      "text/html": [
       "<div><style>\n",
       ".dataframe > thead > tr,\n",
       ".dataframe > tbody > tr {\n",
       "  text-align: right;\n",
       "  white-space: pre-wrap;\n",
       "}\n",
       "</style>\n",
       "<small>shape: (4, 4)</small><table border=\"1\" class=\"dataframe\"><thead><tr><th>A</th><th>B</th><th>C</th><th>E</th></tr><tr><td>i64</td><td>str</td><td>date</td><td>i32</td></tr></thead><tbody><tr><td>1</td><td>&quot;abc&quot;</td><td>2023-01-01</td><td>1</td></tr><tr><td>2</td><td>&quot;bc&quot;</td><td>2021-01-01</td><td>1</td></tr><tr><td>3</td><td>&quot;aaa&quot;</td><td>2009-11-01</td><td>1</td></tr><tr><td>4</td><td>null</td><td>2000-11-11</td><td>1</td></tr></tbody></table></div>"
      ],
      "text/plain": [
       "PolynxDataFrame:\n",
       "shape: (4, 4)\n",
       "┌─────┬──────┬────────────┬─────┐\n",
       "│ A   ┆ B    ┆ C          ┆ E   │\n",
       "│ --- ┆ ---  ┆ ---        ┆ --- │\n",
       "│ i64 ┆ str  ┆ date       ┆ i32 │\n",
       "╞═════╪══════╪════════════╪═════╡\n",
       "│ 1   ┆ abc  ┆ 2023-01-01 ┆ 1   │\n",
       "│ 2   ┆ bc   ┆ 2021-01-01 ┆ 1   │\n",
       "│ 3   ┆ aaa  ┆ 2009-11-01 ┆ 1   │\n",
       "│ 4   ┆ null ┆ 2000-11-11 ┆ 1   │\n",
       "└─────┴──────┴────────────┴─────┘"
      ]
     },
     "execution_count": 12,
     "metadata": {},
     "output_type": "execute_result"
    }
   ],
   "source": [
    "#dir(df_plx.lazy())\n",
    "df_plx.lazy().wc(\"E = 1\").collect()\n",
    "#type(df_plx)"
   ]
  },
  {
   "cell_type": "code",
   "execution_count": 10,
   "metadata": {},
   "outputs": [
    {
     "data": {
      "text/html": [
       "<div><style>\n",
       ".dataframe > thead > tr,\n",
       ".dataframe > tbody > tr {\n",
       "  text-align: right;\n",
       "  white-space: pre-wrap;\n",
       "}\n",
       "</style>\n",
       "<small>shape: (9, 5)</small><table border=\"1\" class=\"dataframe\"><thead><tr><th>statistic</th><th>A</th><th>B</th><th>C</th><th>E</th></tr><tr><td>str</td><td>f64</td><td>str</td><td>str</td><td>f64</td></tr></thead><tbody><tr><td>&quot;count&quot;</td><td>4.0</td><td>&quot;3&quot;</td><td>&quot;4&quot;</td><td>4.0</td></tr><tr><td>&quot;null_count&quot;</td><td>0.0</td><td>&quot;1&quot;</td><td>&quot;0&quot;</td><td>0.0</td></tr><tr><td>&quot;mean&quot;</td><td>2.5</td><td>null</td><td>&quot;2013-09-03 18:00:00&quot;</td><td>1.675</td></tr><tr><td>&quot;std&quot;</td><td>1.290994</td><td>null</td><td>null</td><td>1.488568</td></tr><tr><td>&quot;min&quot;</td><td>1.0</td><td>&quot;aaa&quot;</td><td>&quot;2000-11-11&quot;</td><td>0.0</td></tr><tr><td>&quot;25%&quot;</td><td>2.0</td><td>null</td><td>&quot;2009-11-01&quot;</td><td>1.1</td></tr><tr><td>&quot;50%&quot;</td><td>3.0</td><td>null</td><td>&quot;2021-01-01&quot;</td><td>2.1</td></tr><tr><td>&quot;75%&quot;</td><td>3.0</td><td>null</td><td>&quot;2021-01-01&quot;</td><td>2.1</td></tr><tr><td>&quot;max&quot;</td><td>4.0</td><td>&quot;bc&quot;</td><td>&quot;2023-01-01&quot;</td><td>3.5</td></tr></tbody></table></div>"
      ],
      "text/plain": [
       "shape: (9, 5)\n",
       "┌────────────┬──────────┬──────┬─────────────────────┬──────────┐\n",
       "│ statistic  ┆ A        ┆ B    ┆ C                   ┆ E        │\n",
       "│ ---        ┆ ---      ┆ ---  ┆ ---                 ┆ ---      │\n",
       "│ str        ┆ f64      ┆ str  ┆ str                 ┆ f64      │\n",
       "╞════════════╪══════════╪══════╪═════════════════════╪══════════╡\n",
       "│ count      ┆ 4.0      ┆ 3    ┆ 4                   ┆ 4.0      │\n",
       "│ null_count ┆ 0.0      ┆ 1    ┆ 0                   ┆ 0.0      │\n",
       "│ mean       ┆ 2.5      ┆ null ┆ 2013-09-03 18:00:00 ┆ 1.675    │\n",
       "│ std        ┆ 1.290994 ┆ null ┆ null                ┆ 1.488568 │\n",
       "│ min        ┆ 1.0      ┆ aaa  ┆ 2000-11-11          ┆ 0.0      │\n",
       "│ 25%        ┆ 2.0      ┆ null ┆ 2009-11-01          ┆ 1.1      │\n",
       "│ 50%        ┆ 3.0      ┆ null ┆ 2021-01-01          ┆ 2.1      │\n",
       "│ 75%        ┆ 3.0      ┆ null ┆ 2021-01-01          ┆ 2.1      │\n",
       "│ max        ┆ 4.0      ┆ bc   ┆ 2023-01-01          ┆ 3.5      │\n",
       "└────────────┴──────────┴──────┴─────────────────────┴──────────┘"
      ]
     },
     "execution_count": 10,
     "metadata": {},
     "output_type": "execute_result"
    }
   ],
   "source": [
    "df_plx.lazy().describe()"
   ]
  },
  {
   "cell_type": "code",
   "execution_count": 12,
   "metadata": {},
   "outputs": [
    {
     "data": {
      "text/html": [
       "<div><style>\n",
       ".dataframe > thead > tr,\n",
       ".dataframe > tbody > tr {\n",
       "  text-align: right;\n",
       "  white-space: pre-wrap;\n",
       "}\n",
       "</style>\n",
       "<small>shape: (4, 19)</small><table border=\"1\" class=\"dataframe\"><thead><tr><th>B</th><th>A_count</th><th>A_nulls</th><th>A_mean</th><th>A_std</th><th>A_min</th><th>A_25%</th><th>A_50%</th><th>A_75%</th><th>A_max</th><th>E_count</th><th>E_nulls</th><th>E_mean</th><th>E_std</th><th>E_min</th><th>E_25%</th><th>E_50%</th><th>E_75%</th><th>E_max</th></tr><tr><td>str</td><td>u32</td><td>u32</td><td>f64</td><td>f64</td><td>i64</td><td>f64</td><td>f64</td><td>f64</td><td>i64</td><td>u32</td><td>u32</td><td>f64</td><td>f64</td><td>f64</td><td>f64</td><td>f64</td><td>f64</td><td>f64</td></tr></thead><tbody><tr><td>&quot;abc&quot;</td><td>1</td><td>0</td><td>1.0</td><td>null</td><td>1</td><td>1.0</td><td>1.0</td><td>1.0</td><td>1</td><td>1</td><td>0</td><td>1.1</td><td>null</td><td>1.1</td><td>1.1</td><td>1.1</td><td>1.1</td><td>1.1</td></tr><tr><td>&quot;bc&quot;</td><td>1</td><td>0</td><td>2.0</td><td>null</td><td>2</td><td>2.0</td><td>2.0</td><td>2.0</td><td>2</td><td>1</td><td>0</td><td>2.1</td><td>null</td><td>2.1</td><td>2.1</td><td>2.1</td><td>2.1</td><td>2.1</td></tr><tr><td>null</td><td>1</td><td>0</td><td>4.0</td><td>null</td><td>4</td><td>4.0</td><td>4.0</td><td>4.0</td><td>4</td><td>1</td><td>0</td><td>0.0</td><td>null</td><td>0.0</td><td>0.0</td><td>0.0</td><td>0.0</td><td>0.0</td></tr><tr><td>&quot;aaa&quot;</td><td>1</td><td>0</td><td>3.0</td><td>null</td><td>3</td><td>3.0</td><td>3.0</td><td>3.0</td><td>3</td><td>1</td><td>0</td><td>3.5</td><td>null</td><td>3.5</td><td>3.5</td><td>3.5</td><td>3.5</td><td>3.5</td></tr></tbody></table></div>"
      ],
      "text/plain": [
       "PolynxDataFrame:\n",
       "shape: (4, 19)\n",
       "┌──────┬─────────┬─────────┬────────┬───┬───────┬───────┬───────┬───────┐\n",
       "│ B    ┆ A_count ┆ A_nulls ┆ A_mean ┆ … ┆ E_25% ┆ E_50% ┆ E_75% ┆ E_max │\n",
       "│ ---  ┆ ---     ┆ ---     ┆ ---    ┆   ┆ ---   ┆ ---   ┆ ---   ┆ ---   │\n",
       "│ str  ┆ u32     ┆ u32     ┆ f64    ┆   ┆ f64   ┆ f64   ┆ f64   ┆ f64   │\n",
       "╞══════╪═════════╪═════════╪════════╪═══╪═══════╪═══════╪═══════╪═══════╡\n",
       "│ abc  ┆ 1       ┆ 0       ┆ 1.0    ┆ … ┆ 1.1   ┆ 1.1   ┆ 1.1   ┆ 1.1   │\n",
       "│ bc   ┆ 1       ┆ 0       ┆ 2.0    ┆ … ┆ 2.1   ┆ 2.1   ┆ 2.1   ┆ 2.1   │\n",
       "│ null ┆ 1       ┆ 0       ┆ 4.0    ┆ … ┆ 0.0   ┆ 0.0   ┆ 0.0   ┆ 0.0   │\n",
       "│ aaa  ┆ 1       ┆ 0       ┆ 3.0    ┆ … ┆ 3.5   ┆ 3.5   ┆ 3.5   ┆ 3.5   │\n",
       "└──────┴─────────┴─────────┴────────┴───┴───────┴───────┴───────┴───────┘"
      ]
     },
     "execution_count": 12,
     "metadata": {},
     "output_type": "execute_result"
    }
   ],
   "source": [
    "#plx.DataFrame()\n",
    "df_plx.describe(group_keys='B', selected_columns=['A','E']).round()"
   ]
  },
  {
   "cell_type": "code",
   "execution_count": 11,
   "metadata": {},
   "outputs": [
    {
     "data": {
      "text/html": [
       "<div><style>\n",
       ".dataframe > thead > tr,\n",
       ".dataframe > tbody > tr {\n",
       "  text-align: right;\n",
       "  white-space: pre-wrap;\n",
       "}\n",
       "</style>\n",
       "<small>shape: (3, 4)</small><table border=\"1\" class=\"dataframe\"><thead><tr><th>A</th><th>B</th><th>C</th><th>E</th></tr><tr><td>i64</td><td>str</td><td>date</td><td>f64</td></tr></thead><tbody><tr><td>2</td><td>&quot;bc&quot;</td><td>2021-01-01</td><td>2.1</td></tr><tr><td>3</td><td>&quot;aaa&quot;</td><td>2009-11-01</td><td>3.5</td></tr><tr><td>4</td><td>null</td><td>2000-11-11</td><td>0.0</td></tr></tbody></table></div>"
      ],
      "text/plain": [
       "PolynxDataFrame:\n",
       "shape: (3, 4)\n",
       "┌─────┬──────┬────────────┬─────┐\n",
       "│ A   ┆ B    ┆ C          ┆ E   │\n",
       "│ --- ┆ ---  ┆ ---        ┆ --- │\n",
       "│ i64 ┆ str  ┆ date       ┆ f64 │\n",
       "╞═════╪══════╪════════════╪═════╡\n",
       "│ 2   ┆ bc   ┆ 2021-01-01 ┆ 2.1 │\n",
       "│ 3   ┆ aaa  ┆ 2009-11-01 ┆ 3.5 │\n",
       "│ 4   ┆ null ┆ 2000-11-11 ┆ 0.0 │\n",
       "└─────┴──────┴────────────┴─────┘"
      ]
     },
     "execution_count": 11,
     "metadata": {},
     "output_type": "execute_result"
    }
   ],
   "source": [
    "var5 ='2001-01-01'\n",
    "var3 = '2020-01-01'\n",
    "query_str =  \"@var1 <= A < @var2 & C.dt.year >=2020 & B in @var4\"\n",
    "query_str = \"B.str.contains('a|b')\"\n",
    "query_str = \"C >'2010-01-01' & A > 1\"\n",
    "#query_str = \" B in ['aaa','bc']\"\n",
    "#query_str = \" A == 1\"\n",
    "#query_str = \" A ** 2 - E > 1\"\n",
    "#query_str = \" @var5 < C < @var3 \"\n",
    "#query_str = \" B.str.ends_with('c')\"\n",
    "#query_str = \" not (B.is_null() & A.is_not_null())\"\n",
    "#query_str = \" A ** 2 - E > 1\"\n",
    "query_str = \"A.sum().over('B') > 1\"\n",
    "\n",
    "df_plx.query(query_str)\n",
    "\n",
    "#dir(df)\n"
   ]
  }
 ],
 "metadata": {
  "kernelspec": {
   "display_name": "Python 3",
   "language": "python",
   "name": "python3"
  },
  "language_info": {
   "codemirror_mode": {
    "name": "ipython",
    "version": 3
   },
   "file_extension": ".py",
   "mimetype": "text/x-python",
   "name": "python",
   "nbconvert_exporter": "python",
   "pygments_lexer": "ipython3",
   "version": "3.11.1"
  }
 },
 "nbformat": 4,
 "nbformat_minor": 2
}
