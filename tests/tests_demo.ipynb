{
 "cells": [
  {
   "cell_type": "code",
   "execution_count": 1,
   "metadata": {},
   "outputs": [],
   "source": [
    "import polynx as plx"
   ]
  },
  {
   "cell_type": "markdown",
   "metadata": {},
   "source": [
    "- Supports all polars functions\n"
   ]
  },
  {
   "cell_type": "code",
   "execution_count": 2,
   "metadata": {
    "lines_to_next_cell": 0
   },
   "outputs": [
    {
     "data": {
      "text/html": [
       "<div><style>\n",
       ".dataframe > thead > tr,\n",
       ".dataframe > tbody > tr {\n",
       "  text-align: right;\n",
       "  white-space: pre-wrap;\n",
       "}\n",
       "</style>\n",
       "<small>shape: (4, 4)</small><table border=\"1\" class=\"dataframe\"><thead><tr><th>A</th><th>B</th><th>C</th><th>E</th></tr><tr><td>i64</td><td>str</td><td>date</td><td>f64</td></tr></thead><tbody><tr><td>1</td><td>&quot;abc&quot;</td><td>2023-01-01</td><td>1.1</td></tr><tr><td>2</td><td>&quot;bc&quot;</td><td>2021-01-01</td><td>2.1</td></tr><tr><td>3</td><td>&quot;aaa&quot;</td><td>2009-11-01</td><td>3.5</td></tr><tr><td>4</td><td>null</td><td>2000-11-11</td><td>0.0</td></tr></tbody></table></div>"
      ],
      "text/plain": [
       "PolynxDataFrame:\n",
       "shape: (4, 4)\n",
       "┌─────┬──────┬────────────┬─────┐\n",
       "│ A   ┆ B    ┆ C          ┆ E   │\n",
       "│ --- ┆ ---  ┆ ---        ┆ --- │\n",
       "│ i64 ┆ str  ┆ date       ┆ f64 │\n",
       "╞═════╪══════╪════════════╪═════╡\n",
       "│ 1   ┆ abc  ┆ 2023-01-01 ┆ 1.1 │\n",
       "│ 2   ┆ bc   ┆ 2021-01-01 ┆ 2.1 │\n",
       "│ 3   ┆ aaa  ┆ 2009-11-01 ┆ 3.5 │\n",
       "│ 4   ┆ null ┆ 2000-11-11 ┆ 0.0 │\n",
       "└─────┴──────┴────────────┴─────┘"
      ]
     },
     "execution_count": 2,
     "metadata": {},
     "output_type": "execute_result"
    }
   ],
   "source": [
    "df = plx.DataFrame({\n",
    "    'A':[1, 2, 3, 4], \n",
    "    'B': ['abc', 'bc', 'aaa', None], \n",
    "    'C': ['2023-01-01','2021-01-01','2009-11-01','2000-11-11'],\n",
    "    'E': [1.1, 2.1, 3.5, 0]}\n",
    ").wc(\"C.str.to_datetime(format='%Y-%m-%d',time_unit='ns').dt.date()\")\n",
    "\n",
    "df"
   ]
  },
  {
   "cell_type": "markdown",
   "id": "92a864e4",
   "metadata": {},
   "source": [
    "\n"
   ]
  },
  {
   "cell_type": "markdown",
   "id": "104b6b36",
   "metadata": {},
   "source": [
    "<div><style>\n",
    ".dataframe > thead > tr,\n",
    ".dataframe > tbody > tr {\n",
    "  text-align: right;\n",
    "  white-space: pre-wrap;\n",
    "}\n",
    "</style>\n",
    "<small>shape: (4, 4)</small><table border=\"1\" class=\"dataframe\"><thead><tr><th>A</th><th>B</th><th>C</th><th>E</th></tr><tr><td>i64</td><td>str</td><td>date</td><td>f64</td></tr></thead><tbody><tr><td>1</td><td>&quot;abc&quot;</td><td>2023-01-01</td><td>1.1</td></tr><tr><td>2</td><td>&quot;bc&quot;</td><td>2021-01-01</td><td>2.1</td></tr><tr><td>3</td><td>&quot;aaa&quot;</td><td>2009-11-01</td><td>3.5</td></tr><tr><td>4</td><td>null</td><td>2000-11-11</td><td>0.0</td></tr></tbody></table></div>\n"
   ]
  },
  {
   "cell_type": "markdown",
   "metadata": {},
   "source": [
    "- Pandas style query function with chaind comparison, variable substituion in string expression\n"
   ]
  },
  {
   "cell_type": "code",
   "execution_count": 3,
   "metadata": {
    "lines_to_next_cell": 0
   },
   "outputs": [],
   "source": [
    "var1 = 1\n",
    "var2 = 3\n",
    "var3 = ['bc']\n",
    "query_str =  \"@var1 <= A < @var2 & C.dt.year() >=2020 & B in @var3\"\n",
    "df.query(query_str);"
   ]
  },
  {
   "cell_type": "markdown",
   "id": "08924382",
   "metadata": {},
   "source": [
    "\n"
   ]
  },
  {
   "cell_type": "markdown",
   "id": "496026fb",
   "metadata": {},
   "source": [
    "<div><style>\n",
    ".dataframe > thead > tr,\n",
    ".dataframe > tbody > tr {\n",
    "  text-align: right;\n",
    "  white-space: pre-wrap;\n",
    "}\n",
    "</style>\n",
    "<small>shape: (1, 4)</small><table border=\"1\" class=\"dataframe\"><thead><tr><th>A</th><th>B</th><th>C</th><th>E</th></tr><tr><td>i64</td><td>str</td><td>date</td><td>f64</td></tr></thead><tbody><tr><td>2</td><td>&quot;bc&quot;</td><td>2021-01-01</td><td>2.1</td></tr></tbody></table></div>\n"
   ]
  },
  {
   "cell_type": "markdown",
   "metadata": {},
   "source": [
    "- String operation\n"
   ]
  },
  {
   "cell_type": "code",
   "execution_count": 4,
   "metadata": {
    "lines_to_next_cell": 0
   },
   "outputs": [],
   "source": [
    "query_str = \"B.str.contains('a|b')\"\n",
    "#query_str = \" B.str.ends_with('c')\"\n",
    "df.query(query_str);"
   ]
  },
  {
   "cell_type": "markdown",
   "id": "a230e9cf",
   "metadata": {},
   "source": [
    "\n"
   ]
  },
  {
   "cell_type": "markdown",
   "id": "5c5112aa",
   "metadata": {},
   "source": [
    "<div><style>\n",
    ".dataframe > thead > tr,\n",
    ".dataframe > tbody > tr {\n",
    "  text-align: right;\n",
    "  white-space: pre-wrap;\n",
    "}\n",
    "</style>\n",
    "<small>shape: (3, 4)</small><table border=\"1\" class=\"dataframe\"><thead><tr><th>A</th><th>B</th><th>C</th><th>E</th></tr><tr><td>i64</td><td>str</td><td>date</td><td>f64</td></tr></thead><tbody><tr><td>1</td><td>&quot;abc&quot;</td><td>2023-01-01</td><td>1.1</td></tr><tr><td>2</td><td>&quot;bc&quot;</td><td>2021-01-01</td><td>2.1</td></tr><tr><td>3</td><td>&quot;aaa&quot;</td><td>2009-11-01</td><td>3.5</td></tr></tbody></table></div>\n"
   ]
  },
  {
   "cell_type": "markdown",
   "metadata": {},
   "source": [
    "- Year month comparison in string format\n"
   ]
  },
  {
   "cell_type": "code",
   "execution_count": 5,
   "metadata": {
    "lines_to_next_cell": 0
   },
   "outputs": [],
   "source": [
    "var5 ='2001-01-01'\n",
    "var3 = '2020-01-01'\n",
    "query_str = \" @var5 < C < @var3 \"\n",
    "df.query(query_str);"
   ]
  },
  {
   "cell_type": "markdown",
   "id": "4436d0a4",
   "metadata": {},
   "source": [
    "\n"
   ]
  },
  {
   "cell_type": "markdown",
   "id": "c7c13dd9",
   "metadata": {},
   "source": [
    "<div><style>\n",
    ".dataframe > thead > tr,\n",
    ".dataframe > tbody > tr {\n",
    "  text-align: right;\n",
    "  white-space: pre-wrap;\n",
    "}\n",
    "</style>\n",
    "<small>shape: (1, 4)</small><table border=\"1\" class=\"dataframe\"><thead><tr><th>A</th><th>B</th><th>C</th><th>E</th></tr><tr><td>i64</td><td>str</td><td>date</td><td>f64</td></tr></thead><tbody><tr><td>2</td><td>&quot;bc&quot;</td><td>2021-01-01</td><td>2.1</td></tr></tbody></table></div>\n"
   ]
  },
  {
   "cell_type": "markdown",
   "metadata": {},
   "source": [
    "- `in` and `not in` \n"
   ]
  },
  {
   "cell_type": "code",
   "execution_count": 6,
   "metadata": {
    "lines_to_next_cell": 0
   },
   "outputs": [],
   "source": [
    "query_str = \" B in ['aaa','bc']\"\n",
    "df.query(query_str);"
   ]
  },
  {
   "cell_type": "markdown",
   "id": "f8235135",
   "metadata": {},
   "source": [
    "\n"
   ]
  },
  {
   "cell_type": "markdown",
   "id": "fc5f736e",
   "metadata": {},
   "source": [
    "<div><style>\n",
    ".dataframe > thead > tr,\n",
    ".dataframe > tbody > tr {\n",
    "  text-align: right;\n",
    "  white-space: pre-wrap;\n",
    "}\n",
    "</style>\n",
    "<small>shape: (2, 4)</small><table border=\"1\" class=\"dataframe\"><thead><tr><th>A</th><th>B</th><th>C</th><th>E</th></tr><tr><td>i64</td><td>str</td><td>date</td><td>f64</td></tr></thead><tbody><tr><td>2</td><td>&quot;bc&quot;</td><td>2021-01-01</td><td>2.1</td></tr><tr><td>3</td><td>&quot;aaa&quot;</td><td>2009-11-01</td><td>3.5</td></tr></tbody></table></div>\n"
   ]
  },
  {
   "cell_type": "markdown",
   "metadata": {},
   "source": [
    "- Math calcuation\n"
   ]
  },
  {
   "cell_type": "code",
   "execution_count": 7,
   "metadata": {
    "lines_to_next_cell": 0
   },
   "outputs": [],
   "source": [
    "query_str = \" A ** 2 - E > 1\"\n",
    "df.query(query_str);"
   ]
  },
  {
   "cell_type": "markdown",
   "id": "a3502ea4",
   "metadata": {},
   "source": [
    "\n"
   ]
  },
  {
   "cell_type": "markdown",
   "id": "9b089905",
   "metadata": {},
   "source": [
    "<div><style>\n",
    ".dataframe > thead > tr,\n",
    ".dataframe > tbody > tr {\n",
    "  text-align: right;\n",
    "  white-space: pre-wrap;\n",
    "}\n",
    "</style>\n",
    "<small>shape: (3, 4)</small><table border=\"1\" class=\"dataframe\"><thead><tr><th>A</th><th>B</th><th>C</th><th>E</th></tr><tr><td>i64</td><td>str</td><td>date</td><td>f64</td></tr></thead><tbody><tr><td>2</td><td>&quot;bc&quot;</td><td>2021-01-01</td><td>2.1</td></tr><tr><td>3</td><td>&quot;aaa&quot;</td><td>2009-11-01</td><td>3.5</td></tr><tr><td>4</td><td>null</td><td>2000-11-11</td><td>0.0</td></tr></tbody></table></div>\n"
   ]
  },
  {
   "cell_type": "markdown",
   "metadata": {},
   "source": [
    "- Pandas style eval function\n"
   ]
  },
  {
   "cell_type": "code",
   "execution_count": 8,
   "metadata": {
    "lines_to_next_cell": 0
   },
   "outputs": [],
   "source": [
    "query_str = \" (A ** 2 - E)/(10-A)\"\n",
    "df.eval(query_str);"
   ]
  },
  {
   "cell_type": "markdown",
   "id": "9b91d5a4",
   "metadata": {},
   "source": [
    "\n"
   ]
  },
  {
   "cell_type": "markdown",
   "id": "12086ed8",
   "metadata": {},
   "source": [
    "<div><style>\n",
    ".dataframe > thead > tr,\n",
    ".dataframe > tbody > tr {\n",
    "  text-align: right;\n",
    "  white-space: pre-wrap;\n",
    "}\n",
    "</style>\n",
    "<small>shape: (4, 1)</small><table border=\"1\" class=\"dataframe\"><thead><tr><th>A</th></tr><tr><td>f64</td></tr></thead><tbody><tr><td>-0.011111</td></tr><tr><td>0.2375</td></tr><tr><td>0.785714</td></tr><tr><td>2.666667</td></tr></tbody></table></div>\n"
   ]
  },
  {
   "cell_type": "markdown",
   "metadata": {},
   "source": [
    "- negation\n"
   ]
  },
  {
   "cell_type": "code",
   "execution_count": 9,
   "metadata": {
    "lines_to_next_cell": 0
   },
   "outputs": [],
   "source": [
    "query_str = \" not (B.is_null() & A.is_not_null())\"\n",
    "df.query(query_str);"
   ]
  },
  {
   "cell_type": "markdown",
   "id": "2645e95a",
   "metadata": {},
   "source": [
    "\n"
   ]
  },
  {
   "cell_type": "markdown",
   "id": "32a41d6c",
   "metadata": {},
   "source": [
    "<div><style>\n",
    ".dataframe > thead > tr,\n",
    ".dataframe > tbody > tr {\n",
    "  text-align: right;\n",
    "  white-space: pre-wrap;\n",
    "}\n",
    "</style>\n",
    "<small>shape: (3, 4)</small><table border=\"1\" class=\"dataframe\"><thead><tr><th>A</th><th>B</th><th>C</th><th>E</th></tr><tr><td>i64</td><td>str</td><td>date</td><td>f64</td></tr></thead><tbody><tr><td>1</td><td>&quot;abc&quot;</td><td>2023-01-01</td><td>1.1</td></tr><tr><td>2</td><td>&quot;bc&quot;</td><td>2021-01-01</td><td>2.1</td></tr><tr><td>3</td><td>&quot;aaa&quot;</td><td>2009-11-01</td><td>3.5</td></tr></tbody></table></div>\n"
   ]
  },
  {
   "cell_type": "markdown",
   "metadata": {},
   "source": [
    "- wc extends with_columns to support multipe statement assignments\n"
   ]
  },
  {
   "cell_type": "code",
   "execution_count": 10,
   "metadata": {
    "lines_to_next_cell": 0
   },
   "outputs": [],
   "source": [
    "df.wc(\"A.sum().over('B').alias('H'); E.mean().alias('E_mean')\");"
   ]
  },
  {
   "cell_type": "markdown",
   "id": "3277977a",
   "metadata": {},
   "source": [
    "\n"
   ]
  },
  {
   "cell_type": "markdown",
   "id": "1a8279a9",
   "metadata": {},
   "source": [
    "<div><style>\n",
    ".dataframe > thead > tr,\n",
    ".dataframe > tbody > tr {\n",
    "  text-align: right;\n",
    "  white-space: pre-wrap;\n",
    "}\n",
    "</style>\n",
    "<small>shape: (4, 6)</small><table border=\"1\" class=\"dataframe\"><thead><tr><th>A</th><th>B</th><th>C</th><th>E</th><th>H</th><th>E_mean</th></tr><tr><td>i64</td><td>str</td><td>date</td><td>f64</td><td>i64</td><td>f64</td></tr></thead><tbody><tr><td>1</td><td>&quot;abc&quot;</td><td>2023-01-01</td><td>1.1</td><td>1</td><td>1.675</td></tr><tr><td>2</td><td>&quot;bc&quot;</td><td>2021-01-01</td><td>2.1</td><td>2</td><td>1.675</td></tr><tr><td>3</td><td>&quot;aaa&quot;</td><td>2009-11-01</td><td>3.5</td><td>3</td><td>1.675</td></tr><tr><td>4</td><td>null</td><td>2000-11-11</td><td>0.0</td><td>4</td><td>1.675</td></tr></tbody></table></div>\n"
   ]
  },
  {
   "cell_type": "markdown",
   "metadata": {},
   "source": [
    "- Extend describe for group by \n"
   ]
  },
  {
   "cell_type": "code",
   "execution_count": 16,
   "metadata": {},
   "outputs": [
    {
     "data": {
      "text/html": [
       "<div><style>\n",
       ".dataframe > thead > tr,\n",
       ".dataframe > tbody > tr {\n",
       "  text-align: right;\n",
       "  white-space: pre-wrap;\n",
       "}\n",
       "</style>\n",
       "<small>shape: (4, 19)</small><table border=\"1\" class=\"dataframe\"><thead><tr><th>B</th><th>A_count</th><th>A_nulls</th><th>A_mean</th><th>A_std</th><th>A_min</th><th>A_25%</th><th>A_50%</th><th>A_75%</th><th>A_max</th><th>E_count</th><th>E_nulls</th><th>E_mean</th><th>E_std</th><th>E_min</th><th>E_25%</th><th>E_50%</th><th>E_75%</th><th>E_max</th></tr><tr><td>str</td><td>u32</td><td>u32</td><td>f64</td><td>f64</td><td>i64</td><td>f64</td><td>f64</td><td>f64</td><td>i64</td><td>u32</td><td>u32</td><td>f64</td><td>f64</td><td>f64</td><td>f64</td><td>f64</td><td>f64</td><td>f64</td></tr></thead><tbody><tr><td>&quot;abc&quot;</td><td>1</td><td>0</td><td>1.0</td><td>null</td><td>1</td><td>1.0</td><td>1.0</td><td>1.0</td><td>1</td><td>1</td><td>0</td><td>1.1</td><td>null</td><td>1.1</td><td>1.1</td><td>1.1</td><td>1.1</td><td>1.1</td></tr><tr><td>&quot;aaa&quot;</td><td>1</td><td>0</td><td>3.0</td><td>null</td><td>3</td><td>3.0</td><td>3.0</td><td>3.0</td><td>3</td><td>1</td><td>0</td><td>3.5</td><td>null</td><td>3.5</td><td>3.5</td><td>3.5</td><td>3.5</td><td>3.5</td></tr><tr><td>&quot;bc&quot;</td><td>1</td><td>0</td><td>2.0</td><td>null</td><td>2</td><td>2.0</td><td>2.0</td><td>2.0</td><td>2</td><td>1</td><td>0</td><td>2.1</td><td>null</td><td>2.1</td><td>2.1</td><td>2.1</td><td>2.1</td><td>2.1</td></tr><tr><td>null</td><td>1</td><td>0</td><td>4.0</td><td>null</td><td>4</td><td>4.0</td><td>4.0</td><td>4.0</td><td>4</td><td>1</td><td>0</td><td>0.0</td><td>null</td><td>0.0</td><td>0.0</td><td>0.0</td><td>0.0</td><td>0.0</td></tr></tbody></table></div>"
      ],
      "text/plain": [
       "PolynxDataFrame:\n",
       "shape: (4, 19)\n",
       "┌──────┬─────────┬─────────┬────────┬───┬───────┬───────┬───────┬───────┐\n",
       "│ B    ┆ A_count ┆ A_nulls ┆ A_mean ┆ … ┆ E_25% ┆ E_50% ┆ E_75% ┆ E_max │\n",
       "│ ---  ┆ ---     ┆ ---     ┆ ---    ┆   ┆ ---   ┆ ---   ┆ ---   ┆ ---   │\n",
       "│ str  ┆ u32     ┆ u32     ┆ f64    ┆   ┆ f64   ┆ f64   ┆ f64   ┆ f64   │\n",
       "╞══════╪═════════╪═════════╪════════╪═══╪═══════╪═══════╪═══════╪═══════╡\n",
       "│ abc  ┆ 1       ┆ 0       ┆ 1.0    ┆ … ┆ 1.1   ┆ 1.1   ┆ 1.1   ┆ 1.1   │\n",
       "│ aaa  ┆ 1       ┆ 0       ┆ 3.0    ┆ … ┆ 3.5   ┆ 3.5   ┆ 3.5   ┆ 3.5   │\n",
       "│ bc   ┆ 1       ┆ 0       ┆ 2.0    ┆ … ┆ 2.1   ┆ 2.1   ┆ 2.1   ┆ 2.1   │\n",
       "│ null ┆ 1       ┆ 0       ┆ 4.0    ┆ … ┆ 0.0   ┆ 0.0   ┆ 0.0   ┆ 0.0   │\n",
       "└──────┴─────────┴─────────┴────────┴───┴───────┴───────┴───────┴───────┘"
      ]
     },
     "execution_count": 16,
     "metadata": {},
     "output_type": "execute_result"
    }
   ],
   "source": [
    "df.describe(group_keys='B', selected_columns=['A','E']).round()"
   ]
  },
  {
   "cell_type": "markdown",
   "metadata": {},
   "source": [
    "- Extend group_by to work with string expressions\n"
   ]
  },
  {
   "cell_type": "code",
   "execution_count": 13,
   "metadata": {
    "lines_to_next_cell": 0
   },
   "outputs": [],
   "source": [
    "df.gb('B', \" A.sum(); E.mean()\");"
   ]
  },
  {
   "cell_type": "markdown",
   "id": "4c69653f",
   "metadata": {},
   "source": [
    "\n"
   ]
  },
  {
   "cell_type": "markdown",
   "id": "761c2c01",
   "metadata": {},
   "source": [
    "<div><style>\n",
    ".dataframe > thead > tr,\n",
    ".dataframe > tbody > tr {\n",
    "  text-align: right;\n",
    "  white-space: pre-wrap;\n",
    "}\n",
    "</style>\n",
    "<small>shape: (4, 3)</small><table border=\"1\" class=\"dataframe\"><thead><tr><th>B</th><th>A</th><th>E</th></tr><tr><td>str</td><td>f64</td><td>f64</td></tr></thead><tbody><tr><td>null</td><td>4.0</td><td>0.0</td></tr><tr><td>&quot;aaa&quot;</td><td>3.0</td><td>3.5</td></tr><tr><td>&quot;abc&quot;</td><td>1.0</td><td>1.1</td></tr><tr><td>&quot;bc&quot;</td><td>2.0</td><td>2.1</td></tr></tbody></table></div>\n"
   ]
  },
  {
   "cell_type": "markdown",
   "metadata": {},
   "source": [
    "- Support lazyframe\n"
   ]
  },
  {
   "cell_type": "code",
   "execution_count": 17,
   "metadata": {
    "lines_to_next_cell": 0
   },
   "outputs": [],
   "source": [
    "df.lazy().wc(\"E = 1\").collect();"
   ]
  },
  {
   "cell_type": "markdown",
   "id": "52804f62",
   "metadata": {},
   "source": [
    "\n"
   ]
  },
  {
   "cell_type": "markdown",
   "id": "0d586792",
   "metadata": {},
   "source": [
    "<div><style>\n",
    ".dataframe > thead > tr,\n",
    ".dataframe > tbody > tr {\n",
    "  text-align: right;\n",
    "  white-space: pre-wrap;\n",
    "}\n",
    "</style>\n",
    "<small>shape: (4, 4)</small><table border=\"1\" class=\"dataframe\"><thead><tr><th>A</th><th>B</th><th>C</th><th>E</th></tr><tr><td>i64</td><td>str</td><td>date</td><td>i32</td></tr></thead><tbody><tr><td>1</td><td>&quot;abc&quot;</td><td>2023-01-01</td><td>1</td></tr><tr><td>2</td><td>&quot;bc&quot;</td><td>2021-01-01</td><td>1</td></tr><tr><td>3</td><td>&quot;aaa&quot;</td><td>2009-11-01</td><td>1</td></tr><tr><td>4</td><td>null</td><td>2000-11-11</td><td>1</td></tr></tbody></table></div>\n",
    "\n"
   ]
  },
  {
   "cell_type": "code",
   "execution_count": null,
   "metadata": {},
   "outputs": [
    {
     "ename": "VisitError",
     "evalue": "Error trying to process rule \"func_call\":\n\n'max_horizontal'",
     "output_type": "error",
     "traceback": [
      "\u001b[31m---------------------------------------------------------------------------\u001b[39m",
      "\u001b[31mNameError\u001b[39m                                 Traceback (most recent call last)",
      "\u001b[36mFile \u001b[39m\u001b[32m~/Projects/Python Projects/venv/lib/python3.11/site-packages/polynx/expr_parser.py:347\u001b[39m, in \u001b[36mPolarsExprBuilder.func_call\u001b[39m\u001b[34m(self, args)\u001b[39m\n\u001b[32m    346\u001b[39m \u001b[38;5;28;01mtry\u001b[39;00m:\n\u001b[32m--> \u001b[39m\u001b[32m347\u001b[39m     func = \u001b[38;5;28;43meval\u001b[39;49m\u001b[43m(\u001b[49m\u001b[38;5;28;43mstr\u001b[39;49m\u001b[43m(\u001b[49m\u001b[43margs\u001b[49m\u001b[43m[\u001b[49m\u001b[32;43m0\u001b[39;49m\u001b[43m]\u001b[49m\u001b[43m)\u001b[49m\u001b[43m)\u001b[49m\n\u001b[32m    348\u001b[39m \u001b[38;5;28;01mexcept\u001b[39;00m:\n",
      "\u001b[36mFile \u001b[39m\u001b[32m<string>:1\u001b[39m\n",
      "\u001b[31mNameError\u001b[39m: name 'max_horizontal' is not defined",
      "\nDuring handling of the above exception, another exception occurred:\n",
      "\u001b[31mKeyError\u001b[39m                                  Traceback (most recent call last)",
      "\u001b[36mFile \u001b[39m\u001b[32m~/Projects/Python Projects/venv/lib/python3.11/site-packages/lark/visitors.py:124\u001b[39m, in \u001b[36mTransformer._call_userfunc\u001b[39m\u001b[34m(self, tree, new_children)\u001b[39m\n\u001b[32m    123\u001b[39m     \u001b[38;5;28;01melse\u001b[39;00m:\n\u001b[32m--> \u001b[39m\u001b[32m124\u001b[39m         \u001b[38;5;28;01mreturn\u001b[39;00m \u001b[43mf\u001b[49m\u001b[43m(\u001b[49m\u001b[43mchildren\u001b[49m\u001b[43m)\u001b[49m\n\u001b[32m    125\u001b[39m \u001b[38;5;28;01mexcept\u001b[39;00m GrammarError:\n",
      "\u001b[36mFile \u001b[39m\u001b[32m~/Projects/Python Projects/venv/lib/python3.11/site-packages/polynx/expr_parser.py:349\u001b[39m, in \u001b[36mPolarsExprBuilder.func_call\u001b[39m\u001b[34m(self, args)\u001b[39m\n\u001b[32m    348\u001b[39m \u001b[38;5;28;01mexcept\u001b[39;00m:\n\u001b[32m--> \u001b[39m\u001b[32m349\u001b[39m     func = \u001b[38;5;28;43mself\u001b[39;49m\u001b[43m.\u001b[49m\u001b[43mlocal_vars\u001b[49m\u001b[43m[\u001b[49m\u001b[38;5;28;43mstr\u001b[39;49m\u001b[43m(\u001b[49m\u001b[43margs\u001b[49m\u001b[43m[\u001b[49m\u001b[32;43m0\u001b[39;49m\u001b[43m]\u001b[49m\u001b[43m)\u001b[49m\u001b[43m]\u001b[49m\n\u001b[32m    350\u001b[39m raw_args = args[\u001b[32m1\u001b[39m:]\n",
      "\u001b[31mKeyError\u001b[39m: 'max_horizontal'",
      "\nDuring handling of the above exception, another exception occurred:\n",
      "\u001b[31mVisitError\u001b[39m                                Traceback (most recent call last)",
      "\u001b[36mCell\u001b[39m\u001b[36m \u001b[39m\u001b[32mIn[18]\u001b[39m\u001b[32m, line 1\u001b[39m\n\u001b[32m----> \u001b[39m\u001b[32m1\u001b[39m \u001b[43mdf\u001b[49m\u001b[43m.\u001b[49m\u001b[43meval\u001b[49m\u001b[43m(\u001b[49m\u001b[33;43m\"\u001b[39;49m\u001b[33;43mpl.max_horizontal(\u001b[39;49m\u001b[33;43m'\u001b[39;49m\u001b[33;43mA\u001b[39;49m\u001b[33;43m'\u001b[39;49m\u001b[33;43m,\u001b[39;49m\u001b[33;43m'\u001b[39;49m\u001b[33;43mE\u001b[39;49m\u001b[33;43m'\u001b[39;49m\u001b[33;43m)\u001b[39;49m\u001b[33;43m\"\u001b[39;49m\u001b[43m)\u001b[49m\n",
      "\u001b[36mFile \u001b[39m\u001b[32m~/Projects/Python Projects/venv/lib/python3.11/site-packages/polynx/core.py:16\u001b[39m, in \u001b[36mplx_eval\u001b[39m\u001b[34m(self, query_str, mode)\u001b[39m\n\u001b[32m     14\u001b[39m df_schema = _utils.get_schema(\u001b[38;5;28mself\u001b[39m)\n\u001b[32m     15\u001b[39m \u001b[38;5;28;01mif\u001b[39;00m \u001b[38;5;28misinstance\u001b[39m(query_str, \u001b[38;5;28mstr\u001b[39m):\n\u001b[32m---> \u001b[39m\u001b[32m16\u001b[39m     parsed_expr = \u001b[43mparse_polars_expr\u001b[49m\u001b[43m(\u001b[49m\u001b[43mquery_str\u001b[49m\u001b[43m,\u001b[49m\u001b[43m \u001b[49m\u001b[43mdf_schema\u001b[49m\u001b[43m)\u001b[49m        \n\u001b[32m     17\u001b[39m \u001b[38;5;28;01melse\u001b[39;00m:\n\u001b[32m     18\u001b[39m     parsed_expr = [parse_polars_expr(_str, df_schema)[\u001b[32m0\u001b[39m] \u001b[38;5;28;01mfor\u001b[39;00m _str \u001b[38;5;129;01min\u001b[39;00m query_str]       \n",
      "\u001b[36mFile \u001b[39m\u001b[32m~/Projects/Python Projects/venv/lib/python3.11/site-packages/polynx/expr_parser.py:401\u001b[39m, in \u001b[36mparse_polars_expr\u001b[39m\u001b[34m(query_str, df_schema, local_vars, return_cols)\u001b[39m\n\u001b[32m    399\u001b[39m transformer = PolarsExprBuilder(df_schema=df_schema \u001b[38;5;129;01mor\u001b[39;00m [], local_vars=local_vars)\n\u001b[32m    400\u001b[39m tree = PL_PARSER.parse(expr)\n\u001b[32m--> \u001b[39m\u001b[32m401\u001b[39m parsed_tree = \u001b[43mtransformer\u001b[49m\u001b[43m.\u001b[49m\u001b[43mtransform\u001b[49m\u001b[43m(\u001b[49m\u001b[43mtree\u001b[49m\u001b[43m)\u001b[49m\n\u001b[32m    402\u001b[39m \u001b[38;5;28;01mif\u001b[39;00m return_cols:\n\u001b[32m    403\u001b[39m     \u001b[38;5;28;01mreturn\u001b[39;00m parsed_tree, transformer.cols\n",
      "\u001b[36mFile \u001b[39m\u001b[32m~/Projects/Python Projects/venv/lib/python3.11/site-packages/lark/visitors.py:161\u001b[39m, in \u001b[36mTransformer.transform\u001b[39m\u001b[34m(self, tree)\u001b[39m\n\u001b[32m    159\u001b[39m \u001b[38;5;28;01mdef\u001b[39;00m\u001b[38;5;250m \u001b[39m\u001b[34mtransform\u001b[39m(\u001b[38;5;28mself\u001b[39m, tree: Tree[_Leaf_T]) -> _Return_T:\n\u001b[32m    160\u001b[39m     \u001b[33m\"\u001b[39m\u001b[33mTransform the given tree, and return the final result\u001b[39m\u001b[33m\"\u001b[39m\n\u001b[32m--> \u001b[39m\u001b[32m161\u001b[39m     res = \u001b[38;5;28mlist\u001b[39m(\u001b[38;5;28mself\u001b[39m._transform_children([tree]))\n\u001b[32m    162\u001b[39m     \u001b[38;5;28;01mif\u001b[39;00m \u001b[38;5;129;01mnot\u001b[39;00m res:\n\u001b[32m    163\u001b[39m         \u001b[38;5;28;01mreturn\u001b[39;00m \u001b[38;5;28;01mNone\u001b[39;00m     \u001b[38;5;66;03m# type: ignore[return-value]\u001b[39;00m\n",
      "\u001b[36mFile \u001b[39m\u001b[32m~/Projects/Python Projects/venv/lib/python3.11/site-packages/lark/visitors.py:146\u001b[39m, in \u001b[36mTransformer._transform_children\u001b[39m\u001b[34m(self, children)\u001b[39m\n\u001b[32m    144\u001b[39m \u001b[38;5;28;01mfor\u001b[39;00m c \u001b[38;5;129;01min\u001b[39;00m children:\n\u001b[32m    145\u001b[39m     \u001b[38;5;28;01mif\u001b[39;00m \u001b[38;5;28misinstance\u001b[39m(c, Tree):\n\u001b[32m--> \u001b[39m\u001b[32m146\u001b[39m         res = \u001b[38;5;28;43mself\u001b[39;49m\u001b[43m.\u001b[49m\u001b[43m_transform_tree\u001b[49m\u001b[43m(\u001b[49m\u001b[43mc\u001b[49m\u001b[43m)\u001b[49m\n\u001b[32m    147\u001b[39m     \u001b[38;5;28;01melif\u001b[39;00m \u001b[38;5;28mself\u001b[39m.__visit_tokens__ \u001b[38;5;129;01mand\u001b[39;00m \u001b[38;5;28misinstance\u001b[39m(c, Token):\n\u001b[32m    148\u001b[39m         res = \u001b[38;5;28mself\u001b[39m._call_userfunc_token(c)\n",
      "\u001b[36mFile \u001b[39m\u001b[32m~/Projects/Python Projects/venv/lib/python3.11/site-packages/lark/visitors.py:156\u001b[39m, in \u001b[36mTransformer._transform_tree\u001b[39m\u001b[34m(self, tree)\u001b[39m\n\u001b[32m    155\u001b[39m \u001b[38;5;28;01mdef\u001b[39;00m\u001b[38;5;250m \u001b[39m\u001b[34m_transform_tree\u001b[39m(\u001b[38;5;28mself\u001b[39m, tree):\n\u001b[32m--> \u001b[39m\u001b[32m156\u001b[39m     children = \u001b[38;5;28mlist\u001b[39m(\u001b[38;5;28mself\u001b[39m._transform_children(tree.children))\n\u001b[32m    157\u001b[39m     \u001b[38;5;28;01mreturn\u001b[39;00m \u001b[38;5;28mself\u001b[39m._call_userfunc(tree, children)\n",
      "\u001b[36mFile \u001b[39m\u001b[32m~/Projects/Python Projects/venv/lib/python3.11/site-packages/lark/visitors.py:146\u001b[39m, in \u001b[36mTransformer._transform_children\u001b[39m\u001b[34m(self, children)\u001b[39m\n\u001b[32m    144\u001b[39m \u001b[38;5;28;01mfor\u001b[39;00m c \u001b[38;5;129;01min\u001b[39;00m children:\n\u001b[32m    145\u001b[39m     \u001b[38;5;28;01mif\u001b[39;00m \u001b[38;5;28misinstance\u001b[39m(c, Tree):\n\u001b[32m--> \u001b[39m\u001b[32m146\u001b[39m         res = \u001b[38;5;28;43mself\u001b[39;49m\u001b[43m.\u001b[49m\u001b[43m_transform_tree\u001b[49m\u001b[43m(\u001b[49m\u001b[43mc\u001b[49m\u001b[43m)\u001b[49m\n\u001b[32m    147\u001b[39m     \u001b[38;5;28;01melif\u001b[39;00m \u001b[38;5;28mself\u001b[39m.__visit_tokens__ \u001b[38;5;129;01mand\u001b[39;00m \u001b[38;5;28misinstance\u001b[39m(c, Token):\n\u001b[32m    148\u001b[39m         res = \u001b[38;5;28mself\u001b[39m._call_userfunc_token(c)\n",
      "\u001b[36mFile \u001b[39m\u001b[32m~/Projects/Python Projects/venv/lib/python3.11/site-packages/lark/visitors.py:156\u001b[39m, in \u001b[36mTransformer._transform_tree\u001b[39m\u001b[34m(self, tree)\u001b[39m\n\u001b[32m    155\u001b[39m \u001b[38;5;28;01mdef\u001b[39;00m\u001b[38;5;250m \u001b[39m\u001b[34m_transform_tree\u001b[39m(\u001b[38;5;28mself\u001b[39m, tree):\n\u001b[32m--> \u001b[39m\u001b[32m156\u001b[39m     children = \u001b[38;5;28mlist\u001b[39m(\u001b[38;5;28mself\u001b[39m._transform_children(tree.children))\n\u001b[32m    157\u001b[39m     \u001b[38;5;28;01mreturn\u001b[39;00m \u001b[38;5;28mself\u001b[39m._call_userfunc(tree, children)\n",
      "\u001b[36mFile \u001b[39m\u001b[32m~/Projects/Python Projects/venv/lib/python3.11/site-packages/lark/visitors.py:146\u001b[39m, in \u001b[36mTransformer._transform_children\u001b[39m\u001b[34m(self, children)\u001b[39m\n\u001b[32m    144\u001b[39m \u001b[38;5;28;01mfor\u001b[39;00m c \u001b[38;5;129;01min\u001b[39;00m children:\n\u001b[32m    145\u001b[39m     \u001b[38;5;28;01mif\u001b[39;00m \u001b[38;5;28misinstance\u001b[39m(c, Tree):\n\u001b[32m--> \u001b[39m\u001b[32m146\u001b[39m         res = \u001b[38;5;28;43mself\u001b[39;49m\u001b[43m.\u001b[49m\u001b[43m_transform_tree\u001b[49m\u001b[43m(\u001b[49m\u001b[43mc\u001b[49m\u001b[43m)\u001b[49m\n\u001b[32m    147\u001b[39m     \u001b[38;5;28;01melif\u001b[39;00m \u001b[38;5;28mself\u001b[39m.__visit_tokens__ \u001b[38;5;129;01mand\u001b[39;00m \u001b[38;5;28misinstance\u001b[39m(c, Token):\n\u001b[32m    148\u001b[39m         res = \u001b[38;5;28mself\u001b[39m._call_userfunc_token(c)\n",
      "\u001b[36mFile \u001b[39m\u001b[32m~/Projects/Python Projects/venv/lib/python3.11/site-packages/lark/visitors.py:156\u001b[39m, in \u001b[36mTransformer._transform_tree\u001b[39m\u001b[34m(self, tree)\u001b[39m\n\u001b[32m    155\u001b[39m \u001b[38;5;28;01mdef\u001b[39;00m\u001b[38;5;250m \u001b[39m\u001b[34m_transform_tree\u001b[39m(\u001b[38;5;28mself\u001b[39m, tree):\n\u001b[32m--> \u001b[39m\u001b[32m156\u001b[39m     children = \u001b[38;5;28mlist\u001b[39m(\u001b[38;5;28mself\u001b[39m._transform_children(tree.children))\n\u001b[32m    157\u001b[39m     \u001b[38;5;28;01mreturn\u001b[39;00m \u001b[38;5;28mself\u001b[39m._call_userfunc(tree, children)\n",
      "\u001b[36mFile \u001b[39m\u001b[32m~/Projects/Python Projects/venv/lib/python3.11/site-packages/lark/visitors.py:146\u001b[39m, in \u001b[36mTransformer._transform_children\u001b[39m\u001b[34m(self, children)\u001b[39m\n\u001b[32m    144\u001b[39m \u001b[38;5;28;01mfor\u001b[39;00m c \u001b[38;5;129;01min\u001b[39;00m children:\n\u001b[32m    145\u001b[39m     \u001b[38;5;28;01mif\u001b[39;00m \u001b[38;5;28misinstance\u001b[39m(c, Tree):\n\u001b[32m--> \u001b[39m\u001b[32m146\u001b[39m         res = \u001b[38;5;28;43mself\u001b[39;49m\u001b[43m.\u001b[49m\u001b[43m_transform_tree\u001b[49m\u001b[43m(\u001b[49m\u001b[43mc\u001b[49m\u001b[43m)\u001b[49m\n\u001b[32m    147\u001b[39m     \u001b[38;5;28;01melif\u001b[39;00m \u001b[38;5;28mself\u001b[39m.__visit_tokens__ \u001b[38;5;129;01mand\u001b[39;00m \u001b[38;5;28misinstance\u001b[39m(c, Token):\n\u001b[32m    148\u001b[39m         res = \u001b[38;5;28mself\u001b[39m._call_userfunc_token(c)\n",
      "\u001b[36mFile \u001b[39m\u001b[32m~/Projects/Python Projects/venv/lib/python3.11/site-packages/lark/visitors.py:157\u001b[39m, in \u001b[36mTransformer._transform_tree\u001b[39m\u001b[34m(self, tree)\u001b[39m\n\u001b[32m    155\u001b[39m \u001b[38;5;28;01mdef\u001b[39;00m\u001b[38;5;250m \u001b[39m\u001b[34m_transform_tree\u001b[39m(\u001b[38;5;28mself\u001b[39m, tree):\n\u001b[32m    156\u001b[39m     children = \u001b[38;5;28mlist\u001b[39m(\u001b[38;5;28mself\u001b[39m._transform_children(tree.children))\n\u001b[32m--> \u001b[39m\u001b[32m157\u001b[39m     \u001b[38;5;28;01mreturn\u001b[39;00m \u001b[38;5;28;43mself\u001b[39;49m\u001b[43m.\u001b[49m\u001b[43m_call_userfunc\u001b[49m\u001b[43m(\u001b[49m\u001b[43mtree\u001b[49m\u001b[43m,\u001b[49m\u001b[43m \u001b[49m\u001b[43mchildren\u001b[49m\u001b[43m)\u001b[49m\n",
      "\u001b[36mFile \u001b[39m\u001b[32m~/Projects/Python Projects/venv/lib/python3.11/site-packages/lark/visitors.py:128\u001b[39m, in \u001b[36mTransformer._call_userfunc\u001b[39m\u001b[34m(self, tree, new_children)\u001b[39m\n\u001b[32m    126\u001b[39m     \u001b[38;5;28;01mraise\u001b[39;00m\n\u001b[32m    127\u001b[39m \u001b[38;5;28;01mexcept\u001b[39;00m \u001b[38;5;167;01mException\u001b[39;00m \u001b[38;5;28;01mas\u001b[39;00m e:\n\u001b[32m--> \u001b[39m\u001b[32m128\u001b[39m     \u001b[38;5;28;01mraise\u001b[39;00m VisitError(tree.data, tree, e)\n",
      "\u001b[31mVisitError\u001b[39m: Error trying to process rule \"func_call\":\n\n'max_horizontal'"
     ]
    }
   ],
   "source": [
    "df.eval(\"max_horizontal('A','E')\")"
   ]
  }
 ],
 "metadata": {
  "jupytext": {
   "formats": "ipynb,md"
  },
  "kernelspec": {
   "display_name": "venv",
   "language": "python",
   "name": "python3"
  },
  "language_info": {
   "codemirror_mode": {
    "name": "ipython",
    "version": 3
   },
   "file_extension": ".py",
   "mimetype": "text/x-python",
   "name": "python",
   "nbconvert_exporter": "python",
   "pygments_lexer": "ipython3",
   "version": "3.11.1"
  }
 },
 "nbformat": 4,
 "nbformat_minor": 2
}
