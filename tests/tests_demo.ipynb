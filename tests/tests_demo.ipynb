{
 "cells": [
  {
   "cell_type": "code",
   "execution_count": 1,
   "metadata": {},
   "outputs": [],
   "source": [
    "import polynx as plx"
   ]
  },
  {
   "cell_type": "markdown",
   "metadata": {},
   "source": [
    "- Supports all polars functions\n"
   ]
  },
  {
   "cell_type": "code",
   "execution_count": 2,
   "metadata": {
    "lines_to_next_cell": 0
   },
   "outputs": [
    {
     "data": {
      "text/html": [
       "<div><style>\n",
       ".dataframe > thead > tr,\n",
       ".dataframe > tbody > tr {\n",
       "  text-align: right;\n",
       "  white-space: pre-wrap;\n",
       "}\n",
       "</style>\n",
       "<small>shape: (4, 4)</small><table border=\"1\" class=\"dataframe\"><thead><tr><th>A</th><th>B</th><th>C</th><th>E</th></tr><tr><td>i64</td><td>str</td><td>date</td><td>f64</td></tr></thead><tbody><tr><td>1</td><td>&quot;abc&quot;</td><td>2023-01-01</td><td>1.1</td></tr><tr><td>2</td><td>&quot;bc&quot;</td><td>2021-01-01</td><td>2.1</td></tr><tr><td>3</td><td>&quot;aaa&quot;</td><td>2009-11-01</td><td>3.5</td></tr><tr><td>4</td><td>null</td><td>2000-11-11</td><td>0.0</td></tr></tbody></table></div>"
      ],
      "text/plain": [
       "PolynxDataFrame:\n",
       "shape: (4, 4)\n",
       "┌─────┬──────┬────────────┬─────┐\n",
       "│ A   ┆ B    ┆ C          ┆ E   │\n",
       "│ --- ┆ ---  ┆ ---        ┆ --- │\n",
       "│ i64 ┆ str  ┆ date       ┆ f64 │\n",
       "╞═════╪══════╪════════════╪═════╡\n",
       "│ 1   ┆ abc  ┆ 2023-01-01 ┆ 1.1 │\n",
       "│ 2   ┆ bc   ┆ 2021-01-01 ┆ 2.1 │\n",
       "│ 3   ┆ aaa  ┆ 2009-11-01 ┆ 3.5 │\n",
       "│ 4   ┆ null ┆ 2000-11-11 ┆ 0.0 │\n",
       "└─────┴──────┴────────────┴─────┘"
      ]
     },
     "execution_count": 2,
     "metadata": {},
     "output_type": "execute_result"
    }
   ],
   "source": [
    "df = plx.DataFrame({\n",
    "    'A':[1, 2, 3, 4], \n",
    "    'B': ['abc', 'bc', 'aaa', None], \n",
    "    'C': ['2023-01-01','2021-01-01','2009-11-01','2000-11-11'],\n",
    "    'E': [1.1, 2.1, 3.5, 0]}\n",
    ").wc(\"C.str.to_datetime(format='%Y-%m-%d',time_unit='ns').dt.date()\")\n",
    "\n",
    "df"
   ]
  },
  {
   "cell_type": "markdown",
   "id": "92a864e4",
   "metadata": {},
   "source": [
    "\n"
   ]
  },
  {
   "cell_type": "markdown",
   "id": "104b6b36",
   "metadata": {},
   "source": [
    "<div><style>\n",
    ".dataframe > thead > tr,\n",
    ".dataframe > tbody > tr {\n",
    "  text-align: right;\n",
    "  white-space: pre-wrap;\n",
    "}\n",
    "</style>\n",
    "<small>shape: (4, 4)</small><table border=\"1\" class=\"dataframe\"><thead><tr><th>A</th><th>B</th><th>C</th><th>E</th></tr><tr><td>i64</td><td>str</td><td>date</td><td>f64</td></tr></thead><tbody><tr><td>1</td><td>&quot;abc&quot;</td><td>2023-01-01</td><td>1.1</td></tr><tr><td>2</td><td>&quot;bc&quot;</td><td>2021-01-01</td><td>2.1</td></tr><tr><td>3</td><td>&quot;aaa&quot;</td><td>2009-11-01</td><td>3.5</td></tr><tr><td>4</td><td>null</td><td>2000-11-11</td><td>0.0</td></tr></tbody></table></div>\n"
   ]
  },
  {
   "cell_type": "markdown",
   "metadata": {},
   "source": [
    "- Pandas style query function with chaind comparison, variable substituion in string expression\n"
   ]
  },
  {
   "cell_type": "code",
   "execution_count": 3,
   "metadata": {
    "lines_to_next_cell": 0
   },
   "outputs": [],
   "source": [
    "var1 = 1\n",
    "var2 = 3\n",
    "var3 = ['bc']\n",
    "query_str =  \"@var1 <= A < @var2 & C.dt.year() >=2020 & B in @var3\"\n",
    "df.query(query_str);"
   ]
  },
  {
   "cell_type": "markdown",
   "id": "08924382",
   "metadata": {},
   "source": [
    "\n"
   ]
  },
  {
   "cell_type": "markdown",
   "id": "496026fb",
   "metadata": {},
   "source": [
    "<div><style>\n",
    ".dataframe > thead > tr,\n",
    ".dataframe > tbody > tr {\n",
    "  text-align: right;\n",
    "  white-space: pre-wrap;\n",
    "}\n",
    "</style>\n",
    "<small>shape: (1, 4)</small><table border=\"1\" class=\"dataframe\"><thead><tr><th>A</th><th>B</th><th>C</th><th>E</th></tr><tr><td>i64</td><td>str</td><td>date</td><td>f64</td></tr></thead><tbody><tr><td>2</td><td>&quot;bc&quot;</td><td>2021-01-01</td><td>2.1</td></tr></tbody></table></div>\n"
   ]
  },
  {
   "cell_type": "markdown",
   "metadata": {},
   "source": [
    "- String operation\n"
   ]
  },
  {
   "cell_type": "code",
   "execution_count": 4,
   "metadata": {
    "lines_to_next_cell": 0
   },
   "outputs": [],
   "source": [
    "query_str = \"B.str.contains('a|b')\"\n",
    "#query_str = \" B.str.ends_with('c')\"\n",
    "df.query(query_str);"
   ]
  },
  {
   "cell_type": "markdown",
   "id": "a230e9cf",
   "metadata": {},
   "source": [
    "\n"
   ]
  },
  {
   "cell_type": "markdown",
   "id": "5c5112aa",
   "metadata": {},
   "source": [
    "<div><style>\n",
    ".dataframe > thead > tr,\n",
    ".dataframe > tbody > tr {\n",
    "  text-align: right;\n",
    "  white-space: pre-wrap;\n",
    "}\n",
    "</style>\n",
    "<small>shape: (3, 4)</small><table border=\"1\" class=\"dataframe\"><thead><tr><th>A</th><th>B</th><th>C</th><th>E</th></tr><tr><td>i64</td><td>str</td><td>date</td><td>f64</td></tr></thead><tbody><tr><td>1</td><td>&quot;abc&quot;</td><td>2023-01-01</td><td>1.1</td></tr><tr><td>2</td><td>&quot;bc&quot;</td><td>2021-01-01</td><td>2.1</td></tr><tr><td>3</td><td>&quot;aaa&quot;</td><td>2009-11-01</td><td>3.5</td></tr></tbody></table></div>\n"
   ]
  },
  {
   "cell_type": "markdown",
   "metadata": {},
   "source": [
    "- Year month comparison in string format\n"
   ]
  },
  {
   "cell_type": "code",
   "execution_count": 5,
   "metadata": {
    "lines_to_next_cell": 0
   },
   "outputs": [],
   "source": [
    "var5 ='2001-01-01'\n",
    "var3 = '2020-01-01'\n",
    "query_str = \" @var5 < C < @var3 \"\n",
    "df.query(query_str);"
   ]
  },
  {
   "cell_type": "markdown",
   "id": "4436d0a4",
   "metadata": {},
   "source": [
    "\n"
   ]
  },
  {
   "cell_type": "markdown",
   "id": "c7c13dd9",
   "metadata": {},
   "source": [
    "<div><style>\n",
    ".dataframe > thead > tr,\n",
    ".dataframe > tbody > tr {\n",
    "  text-align: right;\n",
    "  white-space: pre-wrap;\n",
    "}\n",
    "</style>\n",
    "<small>shape: (1, 4)</small><table border=\"1\" class=\"dataframe\"><thead><tr><th>A</th><th>B</th><th>C</th><th>E</th></tr><tr><td>i64</td><td>str</td><td>date</td><td>f64</td></tr></thead><tbody><tr><td>2</td><td>&quot;bc&quot;</td><td>2021-01-01</td><td>2.1</td></tr></tbody></table></div>\n"
   ]
  },
  {
   "cell_type": "markdown",
   "metadata": {},
   "source": [
    "- `in` and `not in` \n"
   ]
  },
  {
   "cell_type": "code",
   "execution_count": 6,
   "metadata": {
    "lines_to_next_cell": 0
   },
   "outputs": [],
   "source": [
    "query_str = \" B in ['aaa','bc']\"\n",
    "df.query(query_str);"
   ]
  },
  {
   "cell_type": "markdown",
   "id": "f8235135",
   "metadata": {},
   "source": [
    "\n"
   ]
  },
  {
   "cell_type": "markdown",
   "id": "fc5f736e",
   "metadata": {},
   "source": [
    "<div><style>\n",
    ".dataframe > thead > tr,\n",
    ".dataframe > tbody > tr {\n",
    "  text-align: right;\n",
    "  white-space: pre-wrap;\n",
    "}\n",
    "</style>\n",
    "<small>shape: (2, 4)</small><table border=\"1\" class=\"dataframe\"><thead><tr><th>A</th><th>B</th><th>C</th><th>E</th></tr><tr><td>i64</td><td>str</td><td>date</td><td>f64</td></tr></thead><tbody><tr><td>2</td><td>&quot;bc&quot;</td><td>2021-01-01</td><td>2.1</td></tr><tr><td>3</td><td>&quot;aaa&quot;</td><td>2009-11-01</td><td>3.5</td></tr></tbody></table></div>\n"
   ]
  },
  {
   "cell_type": "markdown",
   "metadata": {},
   "source": [
    "- Math calcuation\n"
   ]
  },
  {
   "cell_type": "code",
   "execution_count": 7,
   "metadata": {
    "lines_to_next_cell": 0
   },
   "outputs": [],
   "source": [
    "query_str = \" A ** 2 - E > 1\"\n",
    "df.query(query_str);"
   ]
  },
  {
   "cell_type": "markdown",
   "id": "a3502ea4",
   "metadata": {},
   "source": [
    "\n"
   ]
  },
  {
   "cell_type": "markdown",
   "id": "9b089905",
   "metadata": {},
   "source": [
    "<div><style>\n",
    ".dataframe > thead > tr,\n",
    ".dataframe > tbody > tr {\n",
    "  text-align: right;\n",
    "  white-space: pre-wrap;\n",
    "}\n",
    "</style>\n",
    "<small>shape: (3, 4)</small><table border=\"1\" class=\"dataframe\"><thead><tr><th>A</th><th>B</th><th>C</th><th>E</th></tr><tr><td>i64</td><td>str</td><td>date</td><td>f64</td></tr></thead><tbody><tr><td>2</td><td>&quot;bc&quot;</td><td>2021-01-01</td><td>2.1</td></tr><tr><td>3</td><td>&quot;aaa&quot;</td><td>2009-11-01</td><td>3.5</td></tr><tr><td>4</td><td>null</td><td>2000-11-11</td><td>0.0</td></tr></tbody></table></div>\n"
   ]
  },
  {
   "cell_type": "markdown",
   "metadata": {},
   "source": [
    "- Pandas style eval function\n"
   ]
  },
  {
   "cell_type": "code",
   "execution_count": 8,
   "metadata": {
    "lines_to_next_cell": 0
   },
   "outputs": [],
   "source": [
    "query_str = \" (A ** 2 - E)/(10-A)\"\n",
    "df.eval(query_str);"
   ]
  },
  {
   "cell_type": "markdown",
   "id": "9b91d5a4",
   "metadata": {},
   "source": [
    "\n"
   ]
  },
  {
   "cell_type": "markdown",
   "id": "12086ed8",
   "metadata": {},
   "source": [
    "<div><style>\n",
    ".dataframe > thead > tr,\n",
    ".dataframe > tbody > tr {\n",
    "  text-align: right;\n",
    "  white-space: pre-wrap;\n",
    "}\n",
    "</style>\n",
    "<small>shape: (4, 1)</small><table border=\"1\" class=\"dataframe\"><thead><tr><th>A</th></tr><tr><td>f64</td></tr></thead><tbody><tr><td>-0.011111</td></tr><tr><td>0.2375</td></tr><tr><td>0.785714</td></tr><tr><td>2.666667</td></tr></tbody></table></div>\n"
   ]
  },
  {
   "cell_type": "markdown",
   "metadata": {},
   "source": [
    "- negation\n"
   ]
  },
  {
   "cell_type": "code",
   "execution_count": 9,
   "metadata": {
    "lines_to_next_cell": 0
   },
   "outputs": [],
   "source": [
    "query_str = \" not (B.is_null() & A.is_not_null())\"\n",
    "df.query(query_str);"
   ]
  },
  {
   "cell_type": "markdown",
   "id": "2645e95a",
   "metadata": {},
   "source": [
    "\n"
   ]
  },
  {
   "cell_type": "markdown",
   "id": "32a41d6c",
   "metadata": {},
   "source": [
    "<div><style>\n",
    ".dataframe > thead > tr,\n",
    ".dataframe > tbody > tr {\n",
    "  text-align: right;\n",
    "  white-space: pre-wrap;\n",
    "}\n",
    "</style>\n",
    "<small>shape: (3, 4)</small><table border=\"1\" class=\"dataframe\"><thead><tr><th>A</th><th>B</th><th>C</th><th>E</th></tr><tr><td>i64</td><td>str</td><td>date</td><td>f64</td></tr></thead><tbody><tr><td>1</td><td>&quot;abc&quot;</td><td>2023-01-01</td><td>1.1</td></tr><tr><td>2</td><td>&quot;bc&quot;</td><td>2021-01-01</td><td>2.1</td></tr><tr><td>3</td><td>&quot;aaa&quot;</td><td>2009-11-01</td><td>3.5</td></tr></tbody></table></div>\n"
   ]
  },
  {
   "cell_type": "markdown",
   "metadata": {},
   "source": [
    "- wc extends with_columns to support multipe statement assignments\n"
   ]
  },
  {
   "cell_type": "code",
   "execution_count": 10,
   "metadata": {
    "lines_to_next_cell": 0
   },
   "outputs": [],
   "source": [
    "df.wc(\"A.sum().over('B').alias('H'); E.mean().alias('E_mean')\");"
   ]
  },
  {
   "cell_type": "markdown",
   "id": "3277977a",
   "metadata": {},
   "source": [
    "\n"
   ]
  },
  {
   "cell_type": "markdown",
   "id": "1a8279a9",
   "metadata": {},
   "source": [
    "<div><style>\n",
    ".dataframe > thead > tr,\n",
    ".dataframe > tbody > tr {\n",
    "  text-align: right;\n",
    "  white-space: pre-wrap;\n",
    "}\n",
    "</style>\n",
    "<small>shape: (4, 6)</small><table border=\"1\" class=\"dataframe\"><thead><tr><th>A</th><th>B</th><th>C</th><th>E</th><th>H</th><th>E_mean</th></tr><tr><td>i64</td><td>str</td><td>date</td><td>f64</td><td>i64</td><td>f64</td></tr></thead><tbody><tr><td>1</td><td>&quot;abc&quot;</td><td>2023-01-01</td><td>1.1</td><td>1</td><td>1.675</td></tr><tr><td>2</td><td>&quot;bc&quot;</td><td>2021-01-01</td><td>2.1</td><td>2</td><td>1.675</td></tr><tr><td>3</td><td>&quot;aaa&quot;</td><td>2009-11-01</td><td>3.5</td><td>3</td><td>1.675</td></tr><tr><td>4</td><td>null</td><td>2000-11-11</td><td>0.0</td><td>4</td><td>1.675</td></tr></tbody></table></div>\n"
   ]
  },
  {
   "cell_type": "markdown",
   "metadata": {},
   "source": [
    "- Extend describe for group by \n"
   ]
  },
  {
   "cell_type": "code",
   "execution_count": 16,
   "metadata": {},
   "outputs": [
    {
     "data": {
      "text/html": [
       "<div><style>\n",
       ".dataframe > thead > tr,\n",
       ".dataframe > tbody > tr {\n",
       "  text-align: right;\n",
       "  white-space: pre-wrap;\n",
       "}\n",
       "</style>\n",
       "<small>shape: (4, 19)</small><table border=\"1\" class=\"dataframe\"><thead><tr><th>B</th><th>A_count</th><th>A_nulls</th><th>A_mean</th><th>A_std</th><th>A_min</th><th>A_25%</th><th>A_50%</th><th>A_75%</th><th>A_max</th><th>E_count</th><th>E_nulls</th><th>E_mean</th><th>E_std</th><th>E_min</th><th>E_25%</th><th>E_50%</th><th>E_75%</th><th>E_max</th></tr><tr><td>str</td><td>u32</td><td>u32</td><td>f64</td><td>f64</td><td>i64</td><td>f64</td><td>f64</td><td>f64</td><td>i64</td><td>u32</td><td>u32</td><td>f64</td><td>f64</td><td>f64</td><td>f64</td><td>f64</td><td>f64</td><td>f64</td></tr></thead><tbody><tr><td>&quot;abc&quot;</td><td>1</td><td>0</td><td>1.0</td><td>null</td><td>1</td><td>1.0</td><td>1.0</td><td>1.0</td><td>1</td><td>1</td><td>0</td><td>1.1</td><td>null</td><td>1.1</td><td>1.1</td><td>1.1</td><td>1.1</td><td>1.1</td></tr><tr><td>&quot;aaa&quot;</td><td>1</td><td>0</td><td>3.0</td><td>null</td><td>3</td><td>3.0</td><td>3.0</td><td>3.0</td><td>3</td><td>1</td><td>0</td><td>3.5</td><td>null</td><td>3.5</td><td>3.5</td><td>3.5</td><td>3.5</td><td>3.5</td></tr><tr><td>&quot;bc&quot;</td><td>1</td><td>0</td><td>2.0</td><td>null</td><td>2</td><td>2.0</td><td>2.0</td><td>2.0</td><td>2</td><td>1</td><td>0</td><td>2.1</td><td>null</td><td>2.1</td><td>2.1</td><td>2.1</td><td>2.1</td><td>2.1</td></tr><tr><td>null</td><td>1</td><td>0</td><td>4.0</td><td>null</td><td>4</td><td>4.0</td><td>4.0</td><td>4.0</td><td>4</td><td>1</td><td>0</td><td>0.0</td><td>null</td><td>0.0</td><td>0.0</td><td>0.0</td><td>0.0</td><td>0.0</td></tr></tbody></table></div>"
      ],
      "text/plain": [
       "PolynxDataFrame:\n",
       "shape: (4, 19)\n",
       "┌──────┬─────────┬─────────┬────────┬───┬───────┬───────┬───────┬───────┐\n",
       "│ B    ┆ A_count ┆ A_nulls ┆ A_mean ┆ … ┆ E_25% ┆ E_50% ┆ E_75% ┆ E_max │\n",
       "│ ---  ┆ ---     ┆ ---     ┆ ---    ┆   ┆ ---   ┆ ---   ┆ ---   ┆ ---   │\n",
       "│ str  ┆ u32     ┆ u32     ┆ f64    ┆   ┆ f64   ┆ f64   ┆ f64   ┆ f64   │\n",
       "╞══════╪═════════╪═════════╪════════╪═══╪═══════╪═══════╪═══════╪═══════╡\n",
       "│ abc  ┆ 1       ┆ 0       ┆ 1.0    ┆ … ┆ 1.1   ┆ 1.1   ┆ 1.1   ┆ 1.1   │\n",
       "│ aaa  ┆ 1       ┆ 0       ┆ 3.0    ┆ … ┆ 3.5   ┆ 3.5   ┆ 3.5   ┆ 3.5   │\n",
       "│ bc   ┆ 1       ┆ 0       ┆ 2.0    ┆ … ┆ 2.1   ┆ 2.1   ┆ 2.1   ┆ 2.1   │\n",
       "│ null ┆ 1       ┆ 0       ┆ 4.0    ┆ … ┆ 0.0   ┆ 0.0   ┆ 0.0   ┆ 0.0   │\n",
       "└──────┴─────────┴─────────┴────────┴───┴───────┴───────┴───────┴───────┘"
      ]
     },
     "execution_count": 16,
     "metadata": {},
     "output_type": "execute_result"
    }
   ],
   "source": [
    "df.describe(group_keys='B', selected_columns=['A','E']).round()"
   ]
  },
  {
   "cell_type": "markdown",
   "metadata": {},
   "source": [
    "- Extend group_by to work with string expressions\n"
   ]
  },
  {
   "cell_type": "code",
   "execution_count": 13,
   "metadata": {
    "lines_to_next_cell": 0
   },
   "outputs": [],
   "source": [
    "df.gb('B', \" A.sum(); E.mean()\");"
   ]
  },
  {
   "cell_type": "markdown",
   "id": "4c69653f",
   "metadata": {},
   "source": [
    "\n"
   ]
  },
  {
   "cell_type": "markdown",
   "id": "761c2c01",
   "metadata": {},
   "source": [
    "<div><style>\n",
    ".dataframe > thead > tr,\n",
    ".dataframe > tbody > tr {\n",
    "  text-align: right;\n",
    "  white-space: pre-wrap;\n",
    "}\n",
    "</style>\n",
    "<small>shape: (4, 3)</small><table border=\"1\" class=\"dataframe\"><thead><tr><th>B</th><th>A</th><th>E</th></tr><tr><td>str</td><td>f64</td><td>f64</td></tr></thead><tbody><tr><td>null</td><td>4.0</td><td>0.0</td></tr><tr><td>&quot;aaa&quot;</td><td>3.0</td><td>3.5</td></tr><tr><td>&quot;abc&quot;</td><td>1.0</td><td>1.1</td></tr><tr><td>&quot;bc&quot;</td><td>2.0</td><td>2.1</td></tr></tbody></table></div>\n"
   ]
  },
  {
   "cell_type": "markdown",
   "metadata": {},
   "source": [
    "- Support lazyframe\n"
   ]
  },
  {
   "cell_type": "code",
   "execution_count": 17,
   "metadata": {
    "lines_to_next_cell": 0
   },
   "outputs": [],
   "source": [
    "df.lazy().wc(\"E = 1\").collect();"
   ]
  },
  {
   "cell_type": "markdown",
   "id": "52804f62",
   "metadata": {},
   "source": [
    "\n"
   ]
  },
  {
   "cell_type": "markdown",
   "id": "0d586792",
   "metadata": {},
   "source": [
    "<div><style>\n",
    ".dataframe > thead > tr,\n",
    ".dataframe > tbody > tr {\n",
    "  text-align: right;\n",
    "  white-space: pre-wrap;\n",
    "}\n",
    "</style>\n",
    "<small>shape: (4, 4)</small><table border=\"1\" class=\"dataframe\"><thead><tr><th>A</th><th>B</th><th>C</th><th>E</th></tr><tr><td>i64</td><td>str</td><td>date</td><td>i32</td></tr></thead><tbody><tr><td>1</td><td>&quot;abc&quot;</td><td>2023-01-01</td><td>1</td></tr><tr><td>2</td><td>&quot;bc&quot;</td><td>2021-01-01</td><td>1</td></tr><tr><td>3</td><td>&quot;aaa&quot;</td><td>2009-11-01</td><td>1</td></tr><tr><td>4</td><td>null</td><td>2000-11-11</td><td>1</td></tr></tbody></table></div>\n",
    "\n"
   ]
  }
 ],
 "metadata": {
  "jupytext": {
   "formats": "ipynb,md"
  },
  "kernelspec": {
   "display_name": "venv",
   "language": "python",
   "name": "python3"
  },
  "language_info": {
   "codemirror_mode": {
    "name": "ipython",
    "version": 3
   },
   "file_extension": ".py",
   "mimetype": "text/x-python",
   "name": "python",
   "nbconvert_exporter": "python",
   "pygments_lexer": "ipython3",
   "version": "3.11.1"
  }
 },
 "nbformat": 4,
 "nbformat_minor": 2
}
